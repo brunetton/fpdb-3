{
 "cells": [
  {
   "cell_type": "code",
   "execution_count": 3,
   "id": "718d380c-8c4e-42e4-b2c6-11fbb382006d",
   "metadata": {},
   "outputs": [
    {
     "name": "stdout",
     "output_type": "stream",
     "text": [
      "('            jeje_sat', '€', '0.50')\n"
     ]
    }
   ],
   "source": [
    "import re\n",
    "\n",
    "test = \"\"\"\n",
    "            PokerStars Hand #235957724464: Tournament #3407415859, €0.23+€0.02 EUR Omaha Pot Limit - Level II (15/30) - 2022/05/06 21:04:09 CET [2022/05/06 15:04:09 ET]\n",
    "            Table '3407415859 1' 3-max Seat #2 is the button\n",
    "            Seat 1: jeje_sat (1130 in chips)\n",
    "            Seat 2: Killer7714 (370 in chips)\n",
    "            Killer7714: posts small blind 15\n",
    "            jeje_sat: posts big blind 30\n",
    "            *** HOLE CARDS ***\n",
    "            Dealt to jeje_sat [6c 3h Th 9h]\n",
    "            Killer7714: calls 15\n",
    "            jeje_sat: checks\n",
    "            *** FLOP *** [4c 9d Ad]\n",
    "            jeje_sat: checks\n",
    "            Killer7714: bets 60\n",
    "            jeje_sat: calls 60\n",
    "            *** TURN *** [4c 9d Ad] [Tc]\n",
    "            jeje_sat: bets 180\n",
    "            Killer7714: raises 100 to 280 and is all-in\n",
    "            jeje_sat: calls 100\n",
    "            *** RIVER *** [4c 9d Ad Tc] [Jh]\n",
    "            *** SHOW DOWN ***\n",
    "            jeje_sat: shows [6c 3h Th 9h] (two pair, Tens and Nines)\n",
    "            Killer7714: shows [7c Kh 3s As] (a pair of Aces)\n",
    "            jeje_sat collected 740 from pot\n",
    "            Killer7714 finished the tournament in 2nd place\n",
    "            jeje_sat wins the tournament and receives €0.50 - congratulations!\n",
    "            *** SUMMARY ***\n",
    "            Total pot 740 | Rake 0\n",
    "            Board [4c 9d Ad Tc Jh]\n",
    "            Seat 1: jeje_sat (big blind) showed [6c 3h Th 9h] and won (740) with two pair, Tens and Nines\n",
    "            Seat 2: Killer7714 (button) (small blind) showed [7c Kh 3s As] and lost with a pair of Aces\"\"\"\n",
    "    \n",
    "\n",
    "substitutions = {\n",
    "                     'LEGAL_ISO' : \"USD|EUR|GBP|CAD|FPP|SC|INR|CNY\",      # legal ISO currency codes\n",
    "                            'LS' : u\"\\$|\\xe2\\x82\\xac|\\u20ac|\\£|\\u20b9|\\¥|\", # legal currency symbols - Euro(cp1252, utf-8)\n",
    "                           'PLYR': r'\\s?(?P<PNAME>.+?)',\n",
    "                            'CUR': u\"(\\$|\\xe2\\x82\\xac|\\u20ac||\\£|\\u20b9|\\¥|)\",\n",
    "                          'BRKTS': r'(\\(button\\) |\\(small blind\\) |\\(big blind\\) |\\(button blind\\) |\\(button\\) \\(small blind\\) |\\(small blind\\) \\(button\\) |\\(big blind\\) \\(button\\) |\\(small blind/button\\) |\\(button\\) \\(big blind\\) )?',\n",
    "                    }\n",
    "\n",
    "re_WinningRankOne   = re.compile(u\"%(PLYR)s wins the tournament and receives %(CUR)s(?P<AMT>[,\\.0-9]+) - congratulations!$\" %  substitutions, re.MULTILINE)\n",
    "\n",
    "m = re_WinningRankOne.search(test)\n",
    "print(m.groups())"
   ]
  },
  {
   "cell_type": "code",
   "execution_count": null,
   "id": "20e889ff-5491-4d92-a792-d57a512d1ad1",
   "metadata": {},
   "outputs": [],
   "source": []
  }
 ],
 "metadata": {
  "kernelspec": {
   "display_name": "Python 3 (ipykernel)",
   "language": "python",
   "name": "python3"
  },
  "language_info": {
   "codemirror_mode": {
    "name": "ipython",
    "version": 3
   },
   "file_extension": ".py",
   "mimetype": "text/x-python",
   "name": "python",
   "nbconvert_exporter": "python",
   "pygments_lexer": "ipython3",
   "version": "3.9.7"
  }
 },
 "nbformat": 4,
 "nbformat_minor": 5
}
