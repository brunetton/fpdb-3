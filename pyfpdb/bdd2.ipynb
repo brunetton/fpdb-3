{
 "cells": [
  {
   "cell_type": "code",
   "execution_count": 2,
   "id": "a73fefa0",
   "metadata": {},
   "outputs": [
    {
     "name": "stdout",
     "output_type": "stream",
     "text": [
      "[('Actions',), ('Autorates',), ('Backings',), ('Boards',), ('CardsCache',), ('Files',), ('Gametypes',), ('Hands',), ('HandsActions',), ('HandsPlayers',), ('HandsPots',), ('HandsStove',), ('HudCache',), ('Months',), ('Players',), ('PositionsCache',), ('Rank',), ('RawHands',), ('RawTourneys',), ('Sessions',), ('SessionsCache',), ('Settings',), ('Sites',), ('StartCards',), ('TourneyTypes',), ('Tourneys',), ('TourneysCache',), ('TourneysPlayers',), ('Weeks',), ('sqlite_stat1',)]\n"
     ]
    }
   ],
   "source": [
    "import sqlite3\n",
    "path = \"C:/Users/jd/AppData/Roaming/fpdb/database/fpdb.db3\"\n",
    "#path = \"/Users/jdenis/.fpdb/database/fpdb.db3\"\n",
    "con = sqlite3.connect(path)\n",
    "\n",
    "cur = con.cursor()\n",
    "\n",
    "cur.execute(\"\"\"SELECT name FROM sqlite_master\n",
    "            WHERE type='table'\n",
    "            ORDER BY name;\"\"\")\n",
    "\n",
    "result = cur.fetchall()\n",
    "\n",
    "print(result)"
   ]
  },
  {
   "cell_type": "code",
   "execution_count": 4,
   "id": "a564c9ff",
   "metadata": {},
   "outputs": [
    {
     "name": "stdout",
     "output_type": "stream",
     "text": [
      "['id', 'siteId', 'currency', 'type', 'base', 'category', 'limitType', 'hiLo', 'mix', 'smallBlind', 'bigBlind', 'smallBet', 'bigBet', 'maxSeats', 'ante', 'buyinType', 'fast', 'newToGame', 'homeGame', 'split']\n",
      "[(1, 2, 'T$', 'tour', 'hold', 'holdem', 'nl', 'h', 'none', 1000, 2000, 2000, 4000, 3, 0, 'regular', 0, 0, 0, 0), (2, 15, 'EUR', 'ring', 'hold', 'omahahi', 'pl', 'h', 'none', 1, 2, 2, 4, 6, 0, 'regular', 1, 0, 0, 0), (3, 2, 'T$', 'tour', 'hold', 'omahahi', 'pl', 'h', 'none', 1000, 2000, 2000, 4000, 3, 0, 'regular', 0, 0, 0, 0), (4, 2, 'T$', 'tour', 'hold', 'omahahi', 'pl', 'h', 'none', 1500, 3000, 3000, 6000, 3, 0, 'regular', 0, 0, 0, 0), (5, 2, 'EUR', 'ring', 'hold', 'omahahi', 'pl', 'h', 'none', 1, 2, 2, 4, 6, 0, 'regular', 0, 0, 0, 0), (6, 2, 'EUR', 'ring', 'hold', 'omahahi', 'pl', 'h', 'none', 10, 25, 25, 50, 6, 0, 'regular', 1, 0, 0, 0), (7, 2, 'T$', 'tour', 'hold', 'omahahi', 'pl', 'h', 'none', 2000, 4000, 4000, 8000, 3, 0, 'regular', 0, 0, 0, 0), (8, 2, 'T$', 'tour', 'hold', 'omahahi', 'pl', 'h', 'none', 3000, 6000, 6000, 12000, 3, 0, 'regular', 0, 0, 0, 0), (9, 2, 'T$', 'tour', 'hold', 'omahahi', 'pl', 'h', 'none', 4000, 8000, 8000, 16000, 3, 0, 'regular', 0, 0, 0, 0), (10, 2, 'T$', 'tour', 'hold', 'omahahi', 'pl', 'h', 'none', 5000, 10000, 10000, 20000, 3, 0, 'regular', 0, 0, 0, 0), (11, 2, 'T$', 'tour', 'hold', 'omahahi', 'pl', 'h', 'none', 6000, 12000, 12000, 24000, 3, 0, 'regular', 0, 0, 0, 0), (12, 2, 'T$', 'tour', 'hold', 'holdem', 'nl', 'h', 'none', 2500, 5000, 5000, 10000, 6, 500, 'regular', 0, 0, 0, 0), (13, 2, 'T$', 'tour', 'hold', 'holdem', 'nl', 'h', 'none', 3000, 6000, 6000, 12000, 6, 600, 'regular', 0, 0, 0, 0), (14, 2, 'T$', 'tour', 'hold', 'holdem', 'nl', 'h', 'none', 4000, 8000, 8000, 16000, 6, 800, 'regular', 0, 0, 0, 0), (15, 2, 'T$', 'tour', 'hold', 'holdem', 'nl', 'h', 'none', 5000, 10000, 10000, 20000, 6, 1000, 'regular', 0, 0, 0, 0), (16, 2, 'T$', 'tour', 'hold', 'holdem', 'nl', 'h', 'none', 6000, 12000, 12000, 24000, 6, 1500, 'regular', 0, 0, 0, 0), (17, 2, 'T$', 'tour', 'hold', 'holdem', 'nl', 'h', 'none', 7500, 15000, 15000, 30000, 6, 2000, 'regular', 0, 0, 0, 0), (18, 2, 'T$', 'tour', 'hold', 'holdem', 'nl', 'h', 'none', 10000, 20000, 20000, 40000, 6, 2500, 'regular', 0, 0, 0, 0), (19, 2, 'T$', 'tour', 'hold', 'holdem', 'nl', 'h', 'none', 12500, 25000, 25000, 50000, 6, 3000, 'regular', 0, 0, 0, 0), (20, 2, 'T$', 'tour', 'hold', 'holdem', 'nl', 'h', 'none', 15000, 30000, 30000, 60000, 6, 4000, 'regular', 0, 0, 0, 0), (21, 2, 'T$', 'tour', 'hold', 'holdem', 'nl', 'h', 'none', 20000, 40000, 40000, 80000, 6, 5000, 'regular', 0, 0, 0, 0), (22, 2, 'T$', 'tour', 'hold', 'holdem', 'nl', 'h', 'none', 25000, 50000, 50000, 100000, 6, 6000, 'regular', 0, 0, 0, 0), (23, 2, 'T$', 'tour', 'hold', 'holdem', 'nl', 'h', 'none', 30000, 60000, 60000, 120000, 6, 7000, 'regular', 0, 0, 0, 0), (24, 2, 'T$', 'tour', 'hold', 'holdem', 'nl', 'h', 'none', 35000, 70000, 70000, 140000, 6, 8500, 'regular', 0, 0, 0, 0), (25, 2, 'T$', 'tour', 'hold', 'holdem', 'nl', 'h', 'none', 40000, 80000, 80000, 160000, 6, 10000, 'regular', 0, 0, 0, 0), (26, 2, 'T$', 'tour', 'hold', 'holdem', 'nl', 'h', 'none', 50000, 100000, 100000, 200000, 6, 12500, 'regular', 0, 0, 0, 0), (27, 2, 'T$', 'tour', 'hold', 'holdem', 'nl', 'h', 'none', 60000, 120000, 120000, 240000, 6, 15000, 'regular', 0, 0, 0, 0), (28, 2, 'T$', 'tour', 'hold', 'holdem', 'nl', 'h', 'none', 70000, 140000, 140000, 280000, 6, 17500, 'regular', 0, 0, 0, 0), (29, 2, 'T$', 'tour', 'hold', 'holdem', 'nl', 'h', 'none', 80000, 160000, 160000, 320000, 6, 20000, 'regular', 0, 0, 0, 0), (30, 2, 'T$', 'tour', 'hold', 'holdem', 'nl', 'h', 'none', 100000, 200000, 200000, 400000, 6, 25000, 'regular', 0, 0, 0, 0), (31, 2, 'EUR', 'ring', 'hold', 'omahahi', 'pl', 'h', 'none', 5, 10, 10, 20, 6, 0, 'regular', 1, 0, 0, 0), (32, 2, 'T$', 'tour', 'hold', 'omahahi', 'pl', 'h', 'none', 1000, 2000, 2000, 4000, 6, 0, 'regular', 0, 0, 0, 0), (33, 2, 'T$', 'tour', 'hold', 'omahahi', 'pl', 'h', 'none', 1500, 3000, 3000, 6000, 6, 0, 'regular', 0, 0, 0, 0), (34, 2, 'T$', 'tour', 'hold', 'omahahi', 'pl', 'h', 'none', 2000, 4000, 4000, 8000, 6, 0, 'regular', 0, 0, 0, 0), (35, 2, 'T$', 'tour', 'hold', 'omahahi', 'pl', 'h', 'none', 2500, 5000, 5000, 10000, 6, 0, 'regular', 0, 0, 0, 0), (36, 2, 'T$', 'tour', 'hold', 'omahahi', 'pl', 'h', 'none', 3000, 6000, 6000, 12000, 6, 0, 'regular', 0, 0, 0, 0), (37, 2, 'T$', 'tour', 'hold', 'omahahi', 'pl', 'h', 'none', 4000, 8000, 8000, 16000, 6, 0, 'regular', 0, 0, 0, 0), (38, 2, 'T$', 'tour', 'hold', 'omahahi', 'pl', 'h', 'none', 4000, 8000, 8000, 16000, 9, 0, 'regular', 0, 0, 0, 0), (39, 2, 'T$', 'tour', 'hold', 'omahahi', 'pl', 'h', 'none', 10000, 20000, 20000, 40000, 6, 0, 'regular', 0, 0, 0, 0), (40, 2, 'T$', 'tour', 'hold', 'omahahi', 'pl', 'h', 'none', 12500, 25000, 25000, 50000, 6, 0, 'regular', 0, 0, 0, 0), (41, 2, 'T$', 'tour', 'hold', 'omahahi', 'pl', 'h', 'none', 15000, 30000, 30000, 60000, 6, 0, 'regular', 0, 0, 0, 0), (42, 2, 'T$', 'tour', 'hold', 'omahahi', 'pl', 'h', 'none', 20000, 40000, 40000, 80000, 6, 0, 'regular', 0, 0, 0, 0), (43, 2, 'T$', 'tour', 'hold', 'omahahi', 'pl', 'h', 'none', 25000, 50000, 50000, 100000, 6, 0, 'regular', 0, 0, 0, 0), (44, 2, 'T$', 'tour', 'hold', 'holdem', 'nl', 'h', 'none', 1000, 2000, 2000, 4000, 9, 200, 'regular', 0, 0, 0, 0), (45, 2, 'EUR', 'ring', 'hold', 'omahahi', 'pl', 'h', 'none', 2, 5, 5, 10, 6, 0, 'regular', 1, 0, 0, 0), (46, 2, 'EUR', 'ring', 'hold', 'omahahi', 'pl', 'h', 'none', 5, 10, 10, 20, 6, 0, 'regular', 0, 0, 0, 0), (47, 2, 'EUR', 'ring', 'hold', 'omahahi', 'pl', 'h', 'none', 1, 2, 2, 4, 6, 0, 'regular', 1, 0, 0, 0)]\n"
     ]
    }
   ],
   "source": [
    "cur.execute(\"\"\"SELECT * FROM Gametypes\"\"\")\n",
    "names = list(map(lambda x: x[0], cur.description))\n",
    "result = cur.fetchall()\n",
    "print(names)\n",
    "print(result)"
   ]
  },
  {
   "cell_type": "code",
   "execution_count": null,
   "id": "fcdf5563",
   "metadata": {},
   "outputs": [],
   "source": []
  },
  {
   "cell_type": "code",
   "execution_count": null,
   "id": "c3904f99-926c-4a2c-90f4-b947540a045a",
   "metadata": {},
   "outputs": [],
   "source": []
  }
 ],
 "metadata": {
  "kernelspec": {
   "display_name": "Python 3 (ipykernel)",
   "language": "python",
   "name": "python3"
  },
  "language_info": {
   "codemirror_mode": {
    "name": "ipython",
    "version": 3
   },
   "file_extension": ".py",
   "mimetype": "text/x-python",
   "name": "python",
   "nbconvert_exporter": "python",
   "pygments_lexer": "ipython3",
   "version": "3.9.7"
  }
 },
 "nbformat": 4,
 "nbformat_minor": 5
}
