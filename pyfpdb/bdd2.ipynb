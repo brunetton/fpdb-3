{
 "cells": [
  {
   "cell_type": "code",
   "execution_count": 3,
   "id": "a73fefa0",
   "metadata": {},
   "outputs": [
    {
     "name": "stdout",
     "output_type": "stream",
     "text": [
      "[('Actions',), ('Autorates',), ('Backings',), ('Boards',), ('CardsCache',), ('Files',), ('Gametypes',), ('Hands',), ('HandsActions',), ('HandsPlayers',), ('HandsPots',), ('HandsStove',), ('HudCache',), ('Months',), ('Players',), ('PositionsCache',), ('Rank',), ('RawHands',), ('RawTourneys',), ('Sessions',), ('SessionsCache',), ('Settings',), ('Sites',), ('StartCards',), ('TourneyTypes',), ('Tourneys',), ('TourneysCache',), ('TourneysPlayers',), ('Weeks',), ('sqlite_stat1',)]\n"
     ]
    }
   ],
   "source": [
    "import sqlite3\n",
    "path = \"C:/Users/jd/AppData/Roaming/fpdb/database/fpdb.db3\"\n",
    "#path = \"/Users/jdenis/.fpdb/database/fpdb.db3\"\n",
    "con = sqlite3.connect(path)\n",
    "\n",
    "cur = con.cursor()\n",
    "\n",
    "cur.execute(\"\"\"SELECT name FROM sqlite_master\n",
    "            WHERE type='table'\n",
    "            ORDER BY name;\"\"\")\n",
    "\n",
    "result = cur.fetchall()\n",
    "\n",
    "print(result)"
   ]
  },
  {
   "cell_type": "code",
   "execution_count": 5,
   "id": "a564c9ff",
   "metadata": {},
   "outputs": [
    {
     "name": "stdout",
     "output_type": "stream",
     "text": [
      "['id', 'tourneyTypeId', 'sessionId', 'siteTourneyNo', 'entries', 'prizepool', 'startTime', 'endTime', 'tourneyName', 'totalRebuyCount', 'totalAddOnCount', 'added', 'addedCurrency', 'comment', 'commentTs']\n",
      "[(1, 1, None, 3407415859, 3, 50, '2022-05-06 18:58:09', None, 'STT (3 max) Hyper-Turbo SNG LOTTERY', None, None, None, None, None, None)]\n"
     ]
    }
   ],
   "source": [
    "cur.execute(\"\"\"SELECT * FROM Tourneys\"\"\")\n",
    "names = list(map(lambda x: x[0], cur.description))\n",
    "result = cur.fetchall()\n",
    "print(names)\n",
    "print(result)"
   ]
  },
  {
   "cell_type": "code",
   "execution_count": null,
   "id": "fcdf5563",
   "metadata": {},
   "outputs": [],
   "source": []
  }
 ],
 "metadata": {
  "kernelspec": {
   "display_name": "Python 3 (ipykernel)",
   "language": "python",
   "name": "python3"
  },
  "language_info": {
   "codemirror_mode": {
    "name": "ipython",
    "version": 3
   },
   "file_extension": ".py",
   "mimetype": "text/x-python",
   "name": "python",
   "nbconvert_exporter": "python",
   "pygments_lexer": "ipython3",
   "version": "3.9.7"
  }
 },
 "nbformat": 4,
 "nbformat_minor": 5
}
