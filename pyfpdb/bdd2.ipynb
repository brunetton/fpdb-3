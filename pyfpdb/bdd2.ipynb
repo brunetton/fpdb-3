{
 "cells": [
  {
   "cell_type": "code",
   "execution_count": 4,
   "id": "a73fefa0",
   "metadata": {},
   "outputs": [
    {
     "name": "stdout",
     "output_type": "stream",
     "text": [
      "[('Actions',), ('Autorates',), ('Backings',), ('Boards',), ('CardsCache',), ('Files',), ('Gametypes',), ('Hands',), ('HandsActions',), ('HandsPlayers',), ('HandsPots',), ('HandsStove',), ('HudCache',), ('Months',), ('Players',), ('PositionsCache',), ('Rank',), ('RawHands',), ('RawTourneys',), ('Sessions',), ('SessionsCache',), ('Settings',), ('Sites',), ('StartCards',), ('TourneyTypes',), ('Tourneys',), ('TourneysCache',), ('TourneysPlayers',), ('Weeks',), ('sqlite_stat1',)]\n"
     ]
    }
   ],
   "source": [
    "import sqlite3\n",
    "#path = \"C:/Users/jd/AppData/Roaming/fpdb/database/fpdb.db3\"\n",
    "path = \"/Users/jdenis/.fpdb/database/fpdb.db3\"\n",
    "con = sqlite3.connect(path)\n",
    "\n",
    "cur = con.cursor()\n",
    "\n",
    "cur.execute(\"\"\"SELECT name FROM sqlite_master\n",
    "            WHERE type='table'\n",
    "            ORDER BY name;\"\"\")\n",
    "\n",
    "result = cur.fetchall()\n",
    "\n",
    "print(result)"
   ]
  },
  {
   "cell_type": "code",
   "execution_count": 7,
   "id": "a564c9ff",
   "metadata": {},
   "outputs": [
    {
     "name": "stdout",
     "output_type": "stream",
     "text": [
      "['id', 'siteId', 'currency', 'type', 'base', 'category', 'limitType', 'hiLo', 'mix', 'smallBlind', 'bigBlind', 'smallBet', 'bigBet', 'maxSeats', 'ante', 'buyinType', 'fast', 'newToGame', 'homeGame', 'split']\n",
      "[(1, 2, 'T$', 'tour', 'hold', 'omahahi', 'pl', 'h', 'none', 1000, 2000, 2000, 4000, 3, 0, 'regular', 0, 0, 0, 0), (2, 2, 'T$', 'tour', 'hold', 'omahahi', 'pl', 'h', 'none', 1500, 3000, 3000, 6000, 3, 0, 'regular', 0, 0, 0, 0), (3, 2, 'T$', 'tour', 'hold', 'omahahi', 'pl', 'h', 'none', 2000, 4000, 4000, 8000, 3, 0, 'regular', 0, 0, 0, 0), (4, 2, 'T$', 'tour', 'hold', 'omahahi', 'pl', 'h', 'none', 3000, 6000, 6000, 12000, 3, 0, 'regular', 0, 0, 0, 0), (5, 2, 'T$', 'tour', 'hold', 'omahahi', 'pl', 'h', 'none', 4000, 8000, 8000, 16000, 3, 0, 'regular', 0, 0, 0, 0), (6, 2, 'T$', 'tour', 'hold', 'holdem', 'nl', 'h', 'none', 1000, 2000, 2000, 4000, 3, 0, 'regular', 0, 0, 0, 0), (7, 2, 'T$', 'tour', 'hold', 'holdem', 'nl', 'h', 'none', 1500, 3000, 3000, 6000, 3, 0, 'regular', 0, 0, 0, 0), (8, 2, 'T$', 'tour', 'hold', 'holdem', 'nl', 'h', 'none', 2000, 4000, 4000, 8000, 3, 0, 'regular', 0, 0, 0, 0), (9, 2, 'T$', 'tour', 'hold', 'holdem', 'nl', 'h', 'none', 3000, 6000, 6000, 12000, 3, 0, 'regular', 0, 0, 0, 0), (10, 2, 'T$', 'tour', 'hold', 'omahahi', 'pl', 'h', 'none', 5000, 10000, 10000, 20000, 3, 0, 'regular', 0, 0, 0, 0)]\n"
     ]
    }
   ],
   "source": [
    "cur.execute(\"\"\"SELECT * FROM Gametypes\"\"\")\n",
    "names = list(map(lambda x: x[0], cur.description))\n",
    "result = cur.fetchall()\n",
    "print(names)\n",
    "print(result)"
   ]
  },
  {
   "cell_type": "code",
   "execution_count": null,
   "id": "fcdf5563",
   "metadata": {},
   "outputs": [],
   "source": []
  }
 ],
 "metadata": {
  "kernelspec": {
   "display_name": "Python 3 (ipykernel)",
   "language": "python",
   "name": "python3"
  },
  "language_info": {
   "codemirror_mode": {
    "name": "ipython",
    "version": 3
   },
   "file_extension": ".py",
   "mimetype": "text/x-python",
   "name": "python",
   "nbconvert_exporter": "python",
   "pygments_lexer": "ipython3",
   "version": "3.9.7"
  }
 },
 "nbformat": 4,
 "nbformat_minor": 5
}
