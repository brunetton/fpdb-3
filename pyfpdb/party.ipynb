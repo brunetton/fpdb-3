{
 "cells": [
  {
   "cell_type": "code",
   "execution_count": 10,
   "id": "92d8cc05-45a4-45e2-8b00-7e37395b537f",
   "metadata": {},
   "outputs": [],
   "source": [
    "import re\n",
    "\n",
    "test =\"\"\"\n",
    "        #Game No : 105553145604320\n",
    "        ***** Hand History for Game 23093091932 *****\n",
    "        €2 EUR PL Omaha - Monday,October 17, 21:26:03 CEST 2022\n",
    "        Table Las Palmas de G. C. ( Real Money )\n",
    "        Seat 4 is the button\n",
    "        Total number of players : 6/6\n",
    "        seat 1: jejesat ( €2 EUR )\n",
    "        seat 2: Player2 ( €3.81 EUR )\n",
    "        seat 3: Player3 ( €0.79 EUR )\n",
    "        seat 4: Player4 ( €7.92 EUR )\n",
    "        seat 5: Player5 ( €2 EUR )\n",
    "        seat 6: Player6 ( €1.85 EUR )\n",
    "        Player6 posts small blind [€0.01 EUR].\n",
    "        jejesat posts big blind [€0.02 EUR].\n",
    "        ** Dealing down cards **\n",
    "        Dealt to jejesat [ Ah, 5h, 7d, Jd ]\n",
    "        Caipirinha00 folds\n",
    "        Kcila folds\n",
    "        sankukai99 folds\n",
    "        pomlau will be using their time bank for this hand.\n",
    "        pomlau calls [ €0.01 EUR ]\n",
    "        jejesat raises [ €0.04 EUR ]\n",
    "        pomlau calls [ €0.04 EUR ]\n",
    "        ** Dealing Flop ** [ Td, Ts, 2c ]\n",
    "        pomlau checks\n",
    "        jejesat bets [ €0.06 EUR ]\n",
    "        pomlau folds\n",
    "        jejesat does not show cards.\n",
    "        jejesat wins €0.18 EUR\n",
    "        \"\"\"\n",
    "\n",
    "\n",
    "substitutions = {\n",
    "                     'LEGAL_ISO' : \"USD|EUR\",            # legal ISO currency codes\n",
    "                            'LS' : u\"\\$|\\u20ac|\\xe2\\x82\\xac|\",    # Currency symbols - Euro(cp1252, utf-8)\n",
    "                           'NUM' : u\".,'\\dKMB\",\n",
    "                    }\n",
    "\n",
    "re_GameInfo = re.compile(u\"\"\"\n",
    "            \\*{5}\\sHand\\sHistory\\s(F|f)or\\sGame\\s(?P<HID>\\w+)\\s\\*{5}(\\s\\((?P<SITE>Poker\\sStars|PokerMaster|Party|PartyPoker|IPoker|Pacific|WPN|PokerBros)\\))?\\s+\n",
    "            (.+?\\shas\\sleft\\sthe\\stable\\.\\s+)*\n",
    "            (.+?\\sfinished\\sin\\s\\d+\\splace\\.\\s+)*\n",
    "            ((?P<CURRENCY>[%(LS)s]))?\\s*\n",
    "            (\n",
    "             ([%(LS)s]?(?P<SB>[%(NUM)s]+)/[%(LS)s]?(?P<BB>[%(NUM)s]+)\\s*(?:%(LEGAL_ISO)s)?\\s+(?P<FAST3>fastforward\\s)?((?P<LIMIT3>NL|PL|FL|)\\s+)?)|\n",
    "             ((?P<CASHBI>[%(NUM)s]+)\\s*(?:%(LEGAL_ISO)s)?\\s*)(?P<FAST2>fastforward\\s)?(?P<LIMIT2>(NL|PL|FL|))?\\s*\n",
    "            )\n",
    "            (Tourney\\s*)?\n",
    "            (?P<GAME>(Texas\\sHold\\'?em|Hold\\'?em|Omaha\\sHi-Lo|Omaha(\\sHi)?|7\\sCard\\sStud\\sHi-Lo|7\\sCard\\sStud|Double\\sHold\\'?em|Short\\sDeck))\\s*\n",
    "            (Game\\sTable\\s*)?\n",
    "            (\n",
    "             (\\((?P<LIMIT>(NL|PL|FL|Limit|))\\)\\s*)?\n",
    "             (\\((?P<SNG>SNG|STT|MTT)(\\sJackPot)?\\sTournament\\s\\#(?P<TOURNO>\\d+)\\)\\s*)?\n",
    "            )?\n",
    "            (?:\\s\\(Buyin\\s(?P<BUYIN>[%(LS)s][%(NUM)s]+)\\s\\+\\s(?P<FEE>[%(LS)s][%(NUM)s]+)\\))?\n",
    "            \\s*-\\s*\n",
    "            (?P<DATETIME>.+)\n",
    "            \"\"\" % substitutions, re.VERBOSE | re.UNICODE)\n"
   ]
  },
  {
   "cell_type": "code",
   "execution_count": 6,
   "id": "95592446-10ee-4b51-bda7-2de9cd0420b4",
   "metadata": {},
   "outputs": [
    {
     "name": "stdout",
     "output_type": "stream",
     "text": [
      "('f', '23093091932', None, None, None, None, '€', '€', '2 EUR PL ', None, None, None, None, None, None, '2 EUR ', '2', None, 'PL', 'PL', None, 'Omaha', 'Omaha', None, None, '', None, None, None, None, None, None, None, None, None, 'Monday,October 17, 21:26:03 CEST 2022')\n"
     ]
    }
   ],
   "source": [
    "m = re_GameInfo.search(test)\n",
    "print(m.groups())"
   ]
  },
  {
   "cell_type": "code",
   "execution_count": 12,
   "id": "9e31fcaa-7c63-4483-a0be-ed99ecea5ba3",
   "metadata": {},
   "outputs": [],
   "source": [
    "re_HandInfo = re.compile(u\"\"\"\n",
    "            Table\\s(?P<TABLE>.+?)?\\s+\n",
    "            ((?: \\#|\\(|)(?P<TABLENO>\\d+)\\)?\\s+)?\n",
    "            (\\(No\\sDP\\)\\s)?\n",
    "            \\(\\s?(?P<PLAY>Real|Play)\\s+Money\\s?\\)\\s+(--\\s*)? # FIXME: check if play money is correct\n",
    "            Seat\\s+(?P<BUTTON>\\d+)\\sis\\sthe\\sbutton\n",
    "            (\\s+Total\\s+number\\s+of\\s+players\\s+\\:\\s+(?P<PLYRS>\\d+)/?(?P<MAX>\\d+)?)?\n",
    "            \"\"\", re.VERBOSE|re.MULTILINE|re.DOTALL)"
   ]
  },
  {
   "cell_type": "code",
   "execution_count": 13,
   "id": "3ca42594-6e0e-45f2-b9df-7fdc21302b05",
   "metadata": {},
   "outputs": [
    {
     "name": "stdout",
     "output_type": "stream",
     "text": [
      "('Las Palmas de G. C.', None, None, None, 'Real', None, '4', '\\n        Total number of players : 6/6', '6', '6')\n"
     ]
    }
   ],
   "source": [
    "m = re_HandInfo.search(test)\n",
    "print(m.groups())"
   ]
  },
  {
   "cell_type": "code",
   "execution_count": 14,
   "id": "939ef463-0845-4d29-9e83-4876f4b0d9b7",
   "metadata": {},
   "outputs": [],
   "source": [
    "re_GameInfoTrny1     = re.compile(u\"\"\"\n",
    "            \\*{5}\\sHand\\sHistory\\s(F|f)or\\sGame\\s(?P<HID>\\w+)\\s\\*{5}\\s+\n",
    "            (?P<LIMIT>(NL|PL|FL|))\\s*\n",
    "            (?P<GAME>(Texas\\sHold\\'em|Hold\\'?em|Omaha\\sHi-Lo|Omaha(\\sHi)?|7\\sCard\\sStud\\sHi-Lo|7\\sCard\\sStud|Double\\sHold\\'em|Short\\sDeck))\\s+\n",
    "            (?:(?P<BUYIN>[%(LS)s]?\\s?[%(NUM)s]+)\\s*(?P<BUYIN_CURRENCY>%(LEGAL_ISO)s)?\\s*Buy-in\\s+)?\n",
    "            (\\+\\s(?P<FEE>[%(LS)s]?\\s?[%(NUM)s]+)\\sEntry\\sFee\\s+)?\n",
    "            Trny:\\s?(?P<TOURNO>\\d+)\\s+\n",
    "            Level:\\s*(?P<LEVEL>\\d+)\\s+\n",
    "            ((Blinds|Stakes)(?:-Antes)?)\\(\n",
    "                (?P<SB>[%(NUM)s ]+)\\s*\n",
    "                /(?P<BB>[%(NUM)s ]+)\n",
    "                (?:\\s*-\\s*(?P<ANTE>[%(NUM)s ]+)\\$?)?\n",
    "            \\)\n",
    "            \\s*\\-\\s*\n",
    "            (?P<DATETIME>.+)\n",
    "            \"\"\" % substitutions, re.VERBOSE | re.UNICODE)"
   ]
  },
  {
   "cell_type": "code",
   "execution_count": 15,
   "id": "ffb249e3-f162-46d1-bef3-6f6070dd8437",
   "metadata": {},
   "outputs": [
    {
     "name": "stdout",
     "output_type": "stream",
     "text": [
      "('f', '23093091932', '', '')\n"
     ]
    }
   ],
   "source": [
    "m = re_GameInfoTrny1.search(test)\n",
    "print(m.groups())"
   ]
  },
  {
   "cell_type": "code",
   "execution_count": 18,
   "id": "3c1c6b13-3490-4c25-ab92-eb0fd573af34",
   "metadata": {},
   "outputs": [],
   "source": [
    "re_GameInfoTrny2     = re.compile(u\"\"\"\n",
    "            \\*{5}\\sHand\\sHistory\\s(F|f)or\\sGame\\s(?P<HID>\\w+)\\s\\*{5}\\s+\n",
    "            (?P<LIMIT>(NL|PL|FL|))\\s*\n",
    "            (?P<GAME>(Texas\\sHold\\'em|Hold\\'?em|Omaha\\sHi-Lo|Omaha(\\sHi)?|7\\sCard\\sStud\\sHi-Lo|7\\sCard\\sStud|Double\\sHold\\'em|Short\\sDeck))\\s+\n",
    "            (?:(?P<BUYIN>[%(LS)s]?\\s?[%(NUM)s]+)\\s*(?P<BUYIN_CURRENCY>%(LEGAL_ISO)s)?\\s*Buy-in\\s+)?\n",
    "            (\\+\\s(?P<FEE>[%(LS)s]?\\s?[%(NUM)s]+)\\sEntry\\sFee\\s+)?\n",
    "            \\s*\\-\\s*\n",
    "            (?P<DATETIME>.+)\n",
    "            \"\"\" % substitutions, re.VERBOSE | re.UNICODE)"
   ]
  },
  {
   "cell_type": "code",
   "execution_count": 19,
   "id": "698a5630-b1dc-4957-9e22-1fa9c8fabf48",
   "metadata": {},
   "outputs": [
    {
     "ename": "AttributeError",
     "evalue": "'NoneType' object has no attribute 'groups'",
     "output_type": "error",
     "traceback": [
      "\u001b[0;31m---------------------------------------------------------------------------\u001b[0m",
      "\u001b[0;31mAttributeError\u001b[0m                            Traceback (most recent call last)",
      "\u001b[0;32m/var/folders/7l/vksx4bv93dzc7tyk794vhs0w0000gp/T/ipykernel_74270/3784941463.py\u001b[0m in \u001b[0;36m<module>\u001b[0;34m\u001b[0m\n\u001b[1;32m      1\u001b[0m \u001b[0mm\u001b[0m \u001b[0;34m=\u001b[0m \u001b[0mre_GameInfoTrny2\u001b[0m\u001b[0;34m.\u001b[0m\u001b[0msearch\u001b[0m\u001b[0;34m(\u001b[0m\u001b[0mtest\u001b[0m\u001b[0;34m)\u001b[0m\u001b[0;34m\u001b[0m\u001b[0;34m\u001b[0m\u001b[0m\n\u001b[0;32m----> 2\u001b[0;31m \u001b[0mprint\u001b[0m\u001b[0;34m(\u001b[0m\u001b[0mm\u001b[0m\u001b[0;34m.\u001b[0m\u001b[0mgroups\u001b[0m\u001b[0;34m(\u001b[0m\u001b[0;34m)\u001b[0m\u001b[0;34m)\u001b[0m\u001b[0;34m\u001b[0m\u001b[0;34m\u001b[0m\u001b[0m\n\u001b[0m",
      "\u001b[0;31mAttributeError\u001b[0m: 'NoneType' object has no attribute 'groups'"
     ]
    }
   ],
   "source": [
    "m = re_GameInfoTrny2.search(test)\n",
    "print(m.groups())"
   ]
  },
  {
   "cell_type": "code",
   "execution_count": 20,
   "id": "a0410fee-b000-4fef-b30e-4840dd632e1c",
   "metadata": {},
   "outputs": [],
   "source": [
    "re_GameInfoTrny3     = re.compile(u\"\"\"\n",
    "            \\*{5}\\sHand\\sHistory\\s(F|f)or\\sGame\\s(?P<HID>\\w+)\\s\\*{5}\\s\\((?P<SITE>Poker\\sStars|PokerMaster|Party|IPoker|Pacific|WPN|PokerBros)\\)\\s+\n",
    "            Tourney\\sHand\\s\n",
    "            (?P<LIMIT>(NL|PL|FL|))\\s*\n",
    "            (?P<GAME>(Texas\\sHold\\'em|Hold\\'?em|Omaha\\sHi-Lo|Omaha(\\sHi)?|7\\sCard\\sStud\\sHi-Lo|7\\sCard\\sStud|Double\\sHold\\'em|Short\\sDeck))\\s+\n",
    "            \\s*\\-\\s*\n",
    "            (?P<DATETIME>.+)\n",
    "            \"\"\" % substitutions, re.VERBOSE | re.UNICODE)"
   ]
  },
  {
   "cell_type": "code",
   "execution_count": 21,
   "id": "d3814c4c-7cb1-4f2b-b73a-7644e0e2bbd7",
   "metadata": {},
   "outputs": [
    {
     "ename": "AttributeError",
     "evalue": "'NoneType' object has no attribute 'groups'",
     "output_type": "error",
     "traceback": [
      "\u001b[0;31m---------------------------------------------------------------------------\u001b[0m",
      "\u001b[0;31mAttributeError\u001b[0m                            Traceback (most recent call last)",
      "\u001b[0;32m/var/folders/7l/vksx4bv93dzc7tyk794vhs0w0000gp/T/ipykernel_74270/3731564561.py\u001b[0m in \u001b[0;36m<module>\u001b[0;34m\u001b[0m\n\u001b[1;32m      1\u001b[0m \u001b[0mm\u001b[0m \u001b[0;34m=\u001b[0m \u001b[0mre_GameInfoTrny3\u001b[0m\u001b[0;34m.\u001b[0m\u001b[0msearch\u001b[0m\u001b[0;34m(\u001b[0m\u001b[0mtest\u001b[0m\u001b[0;34m)\u001b[0m\u001b[0;34m\u001b[0m\u001b[0;34m\u001b[0m\u001b[0m\n\u001b[0;32m----> 2\u001b[0;31m \u001b[0mprint\u001b[0m\u001b[0;34m(\u001b[0m\u001b[0mm\u001b[0m\u001b[0;34m.\u001b[0m\u001b[0mgroups\u001b[0m\u001b[0;34m(\u001b[0m\u001b[0;34m)\u001b[0m\u001b[0;34m)\u001b[0m\u001b[0;34m\u001b[0m\u001b[0;34m\u001b[0m\u001b[0m\n\u001b[0m",
      "\u001b[0;31mAttributeError\u001b[0m: 'NoneType' object has no attribute 'groups'"
     ]
    }
   ],
   "source": [
    "m = re_GameInfoTrny3.search(test)\n",
    "print(m.groups())"
   ]
  },
  {
   "cell_type": "code",
   "execution_count": 26,
   "id": "d01ef7ca-3890-4591-b9ab-14e62ee5eba7",
   "metadata": {},
   "outputs": [],
   "source": [
    "re_Blinds = re.compile(\"\"\"\n",
    "            ((Blinds|Stakes)(?:-Antes)?)\\(\n",
    "                (?P<SB>[%(NUM)s ]+)\\s*\n",
    "                /(?P<BB>[%(NUM)s ]+)\n",
    "                (?:\\s*-\\s*(?P<ANTE>[%(NUM)s ]+)\\$?)?\n",
    "            \\)$\"\"\" % substitutions, re.VERBOSE | re.MULTILINE)"
   ]
  },
  {
   "cell_type": "code",
   "execution_count": 27,
   "id": "95108b09-4bc0-4d5e-bff5-84bf5034f2b3",
   "metadata": {},
   "outputs": [
    {
     "ename": "AttributeError",
     "evalue": "'NoneType' object has no attribute 'groups'",
     "output_type": "error",
     "traceback": [
      "\u001b[0;31m---------------------------------------------------------------------------\u001b[0m",
      "\u001b[0;31mAttributeError\u001b[0m                            Traceback (most recent call last)",
      "\u001b[0;32m/var/folders/7l/vksx4bv93dzc7tyk794vhs0w0000gp/T/ipykernel_74270/3265184127.py\u001b[0m in \u001b[0;36m<module>\u001b[0;34m\u001b[0m\n\u001b[1;32m      1\u001b[0m \u001b[0mm\u001b[0m \u001b[0;34m=\u001b[0m \u001b[0mre_Blinds\u001b[0m\u001b[0;34m.\u001b[0m\u001b[0msearch\u001b[0m\u001b[0;34m(\u001b[0m\u001b[0mtest\u001b[0m\u001b[0;34m)\u001b[0m\u001b[0;34m\u001b[0m\u001b[0;34m\u001b[0m\u001b[0m\n\u001b[0;32m----> 2\u001b[0;31m \u001b[0mprint\u001b[0m\u001b[0;34m(\u001b[0m\u001b[0mm\u001b[0m\u001b[0;34m.\u001b[0m\u001b[0mgroups\u001b[0m\u001b[0;34m(\u001b[0m\u001b[0;34m)\u001b[0m\u001b[0;34m)\u001b[0m\u001b[0;34m\u001b[0m\u001b[0;34m\u001b[0m\u001b[0m\n\u001b[0m",
      "\u001b[0;31mAttributeError\u001b[0m: 'NoneType' object has no attribute 'groups'"
     ]
    }
   ],
   "source": [
    "m = re_Blinds.search(test)\n",
    "print(m.groups())"
   ]
  },
  {
   "cell_type": "code",
   "execution_count": 28,
   "id": "82d66f28-a227-4573-b244-f3e75da6989c",
   "metadata": {},
   "outputs": [],
   "source": [
    "re_TourNoLevel = re.compile(\"\"\"\n",
    "            Trny:\\s?(?P<TOURNO>\\d+)\\s+\n",
    "            Level:\\s*(?P<LEVEL>\\d+)\n",
    "        \"\"\", re.VERBOSE)"
   ]
  },
  {
   "cell_type": "code",
   "execution_count": 29,
   "id": "212470f5-f864-460a-b173-95a0b2fb9f89",
   "metadata": {},
   "outputs": [
    {
     "ename": "AttributeError",
     "evalue": "'NoneType' object has no attribute 'groups'",
     "output_type": "error",
     "traceback": [
      "\u001b[0;31m---------------------------------------------------------------------------\u001b[0m",
      "\u001b[0;31mAttributeError\u001b[0m                            Traceback (most recent call last)",
      "\u001b[0;32m/var/folders/7l/vksx4bv93dzc7tyk794vhs0w0000gp/T/ipykernel_74270/4271100278.py\u001b[0m in \u001b[0;36m<module>\u001b[0;34m\u001b[0m\n\u001b[1;32m      1\u001b[0m \u001b[0mm\u001b[0m \u001b[0;34m=\u001b[0m \u001b[0mre_TourNoLevel\u001b[0m\u001b[0;34m.\u001b[0m\u001b[0msearch\u001b[0m\u001b[0;34m(\u001b[0m\u001b[0mtest\u001b[0m\u001b[0;34m)\u001b[0m\u001b[0;34m\u001b[0m\u001b[0;34m\u001b[0m\u001b[0m\n\u001b[0;32m----> 2\u001b[0;31m \u001b[0mprint\u001b[0m\u001b[0;34m(\u001b[0m\u001b[0mm\u001b[0m\u001b[0;34m.\u001b[0m\u001b[0mgroups\u001b[0m\u001b[0;34m(\u001b[0m\u001b[0;34m)\u001b[0m\u001b[0;34m)\u001b[0m\u001b[0;34m\u001b[0m\u001b[0;34m\u001b[0m\u001b[0m\n\u001b[0m",
      "\u001b[0;31mAttributeError\u001b[0m: 'NoneType' object has no attribute 'groups'"
     ]
    }
   ],
   "source": [
    "m = re_TourNoLevel.search(test)\n",
    "print(m.groups())"
   ]
  },
  {
   "cell_type": "code",
   "execution_count": 30,
   "id": "02611b5c-4b06-46e4-bdca-8a29b0d537aa",
   "metadata": {},
   "outputs": [],
   "source": [
    "re_PlayerInfo   = re.compile(u\"\"\"\n",
    "          (S|s)eat\\s?(?P<SEAT>\\d+):\\s\n",
    "          (?P<PNAME>.*)\\s\n",
    "          \\(\\s*[%(LS)s]?(?P<CASH>[%(NUM)s]+)\\s*(?:%(LEGAL_ISO)s|)\\s*\\)\n",
    "          \"\"\" % substitutions, re.VERBOSE| re.UNICODE)"
   ]
  },
  {
   "cell_type": "code",
   "execution_count": 31,
   "id": "1639db17-7bbd-48d4-bdbe-e93fd10f4c5f",
   "metadata": {},
   "outputs": [
    {
     "name": "stdout",
     "output_type": "stream",
     "text": [
      "('s', '1', 'jejesat', '2')\n"
     ]
    }
   ],
   "source": [
    "m = re_PlayerInfo.search(test)\n",
    "print(m.groups())"
   ]
  },
  {
   "cell_type": "code",
   "execution_count": 35,
   "id": "10c93d61-20e7-4de6-9bd7-84de5e9c77e5",
   "metadata": {},
   "outputs": [],
   "source": [
    "re_NewLevel = re.compile(u\"Blinds(-Antes)?\\((?P<SB>[%(NUM)s ]+)/(?P<BB>[%(NUM)s ]+)(?:\\s*-\\s*(?P<ANTE>[%(NUM)s ]+))?\\)\" % substitutions, re.VERBOSE|re.MULTILINE|re.DOTALL)"
   ]
  },
  {
   "cell_type": "code",
   "execution_count": 36,
   "id": "f48c1623-72a5-4489-a3c9-41a6a2263f92",
   "metadata": {},
   "outputs": [
    {
     "ename": "AttributeError",
     "evalue": "'NoneType' object has no attribute 'groups'",
     "output_type": "error",
     "traceback": [
      "\u001b[0;31m---------------------------------------------------------------------------\u001b[0m",
      "\u001b[0;31mAttributeError\u001b[0m                            Traceback (most recent call last)",
      "\u001b[0;32m/var/folders/7l/vksx4bv93dzc7tyk794vhs0w0000gp/T/ipykernel_74270/140066534.py\u001b[0m in \u001b[0;36m<module>\u001b[0;34m\u001b[0m\n\u001b[1;32m      1\u001b[0m \u001b[0mm\u001b[0m \u001b[0;34m=\u001b[0m \u001b[0mre_NewLevel\u001b[0m\u001b[0;34m.\u001b[0m\u001b[0msearch\u001b[0m\u001b[0;34m(\u001b[0m\u001b[0mtest\u001b[0m\u001b[0;34m)\u001b[0m\u001b[0;34m\u001b[0m\u001b[0;34m\u001b[0m\u001b[0m\n\u001b[0;32m----> 2\u001b[0;31m \u001b[0mprint\u001b[0m\u001b[0;34m(\u001b[0m\u001b[0mm\u001b[0m\u001b[0;34m.\u001b[0m\u001b[0mgroups\u001b[0m\u001b[0;34m(\u001b[0m\u001b[0;34m)\u001b[0m\u001b[0;34m)\u001b[0m\u001b[0;34m\u001b[0m\u001b[0;34m\u001b[0m\u001b[0m\n\u001b[0m",
      "\u001b[0;31mAttributeError\u001b[0m: 'NoneType' object has no attribute 'groups'"
     ]
    }
   ],
   "source": [
    "m = re_NewLevel.search(test)\n",
    "print(m.groups())"
   ]
  },
  {
   "cell_type": "code",
   "execution_count": 38,
   "id": "c9ccb325-a282-45be-8482-ae471c0b0a59",
   "metadata": {},
   "outputs": [],
   "source": [
    "re_CountedSeats = re.compile(\"Total\\s+number\\s+of\\s+players\\s*:\\s*(?P<COUNTED_SEATS>\\d+)\", re.MULTILINE)"
   ]
  },
  {
   "cell_type": "code",
   "execution_count": 39,
   "id": "88bd376a-d06f-40b8-a61b-3b63b877da6a",
   "metadata": {},
   "outputs": [
    {
     "name": "stdout",
     "output_type": "stream",
     "text": [
      "('6',)\n"
     ]
    }
   ],
   "source": [
    "m = re_CountedSeats.search(test)\n",
    "print(m.groups())"
   ]
  },
  {
   "cell_type": "code",
   "execution_count": 40,
   "id": "48f2b2a2-ec1e-46f8-9c76-46804081b681",
   "metadata": {},
   "outputs": [],
   "source": [
    "re_Identify     = re.compile(u'\\*{5}\\sHand\\sHistory\\s[fF]or\\sGame\\s\\d+\\w+?\\s')"
   ]
  },
  {
   "cell_type": "code",
   "execution_count": 41,
   "id": "116f0421-9c8c-490b-aadf-c562533b250f",
   "metadata": {},
   "outputs": [
    {
     "name": "stdout",
     "output_type": "stream",
     "text": [
      "()\n"
     ]
    }
   ],
   "source": [
    "m = re_Identify.search(test)\n",
    "print(m.groups())"
   ]
  },
  {
   "cell_type": "code",
   "execution_count": 42,
   "id": "f3736b05-c45d-4cb3-981f-b048be950b1f",
   "metadata": {},
   "outputs": [],
   "source": [
    "re_Button       = re.compile('Seat (?P<BUTTON>\\d+) is the button', re.MULTILINE)"
   ]
  },
  {
   "cell_type": "code",
   "execution_count": 43,
   "id": "353be330-9b46-43c7-9045-96d5f7358b44",
   "metadata": {},
   "outputs": [
    {
     "name": "stdout",
     "output_type": "stream",
     "text": [
      "('4',)\n"
     ]
    }
   ],
   "source": [
    "m = re_Button.search(test)\n",
    "print(m.groups())"
   ]
  },
  {
   "cell_type": "code",
   "execution_count": 44,
   "id": "b1d2578c-c006-44ff-939e-7195c769102b",
   "metadata": {},
   "outputs": [],
   "source": [
    "re_Board        = re.compile(r\"\\[(?P<CARDS>.+)\\]\")"
   ]
  },
  {
   "cell_type": "code",
   "execution_count": 45,
   "id": "69d56a57-857a-4b3f-b83d-be7c3f89fb98",
   "metadata": {},
   "outputs": [
    {
     "name": "stdout",
     "output_type": "stream",
     "text": [
      "('€0.01 EUR',)\n"
     ]
    }
   ],
   "source": [
    "m = re_Board.search(test)\n",
    "print(m.groups())"
   ]
  },
  {
   "cell_type": "code",
   "execution_count": 50,
   "id": "f7264a14-3871-46d9-981d-93f834ad282e",
   "metadata": {},
   "outputs": [
    {
     "ename": "KeyError",
     "evalue": "'BRAX'",
     "output_type": "error",
     "traceback": [
      "\u001b[0;31m---------------------------------------------------------------------------\u001b[0m",
      "\u001b[0;31mKeyError\u001b[0m                                  Traceback (most recent call last)",
      "\u001b[0;32m/var/folders/7l/vksx4bv93dzc7tyk794vhs0w0000gp/T/ipykernel_74270/2018896196.py\u001b[0m in \u001b[0;36m<module>\u001b[0;34m\u001b[0m\n\u001b[1;32m      1\u001b[0m re_PostSB = re.compile(\n\u001b[0;32m----> 2\u001b[0;31m                 \u001b[0;34mr\"Player6 posts small blind [%(BRAX)s]?%(CUR_SYM)s?(?P<SB>[.,0-9]+)\\s*(%(CUR)s)?[%(BRAX)s]?\\.?\\s*$\"\u001b[0m\u001b[0;34m\u001b[0m\u001b[0;34m\u001b[0m\u001b[0m\n\u001b[0m\u001b[1;32m      3\u001b[0m                 %  substitutions, re.MULTILINE)\n",
      "\u001b[0;31mKeyError\u001b[0m: 'BRAX'"
     ]
    }
   ],
   "source": [
    "\n",
    "re_PostSB = re.compile(\n",
    "                r\"Player6 posts small blind [%(BRAX)s]?%(CUR_SYM)s?(?P<SB>[.,0-9]+)\\s*(%(CUR)s)?[%(BRAX)s]?\\.?\\s*$\"\n",
    "                %  substitutions, re.MULTILINE)"
   ]
  },
  {
   "cell_type": "code",
   "execution_count": null,
   "id": "76ed4c39-58be-4ee6-be25-ef646ad93621",
   "metadata": {},
   "outputs": [],
   "source": []
  }
 ],
 "metadata": {
  "kernelspec": {
   "display_name": "Python 3 (ipykernel)",
   "language": "python",
   "name": "python3"
  },
  "language_info": {
   "codemirror_mode": {
    "name": "ipython",
    "version": 3
   },
   "file_extension": ".py",
   "mimetype": "text/x-python",
   "name": "python",
   "nbconvert_exporter": "python",
   "pygments_lexer": "ipython3",
   "version": "3.9.7"
  }
 },
 "nbformat": 4,
 "nbformat_minor": 5
}
