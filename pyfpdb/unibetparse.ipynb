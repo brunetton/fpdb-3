{
 "cells": [
  {
   "cell_type": "code",
   "execution_count": 9,
   "id": "8d465b05",
   "metadata": {},
   "outputs": [
    {
     "name": "stdout",
     "output_type": "stream",
     "text": [
      "Game #643794271: Table €4 PL - 0.02/0.04 - Pot Limit Omaha - 21:43:44 2022/04/06\n",
      "*** Seated players ***\n",
      "Seat 1: Nonodiinho (€3.04)\n",
      "Seat 2: lava (€4.07)\n",
      "Seat 3: ExtremeBleu (€4.20)\n",
      "Seat 4: Cheytan (€3.57)\n",
      "Seat 5: HGJJGHJGJHG (€9.34)\n",
      "Seat 6: albanmuller (€2.48) (sitting out)\n",
      "*** Blinds and button ***\n",
      "lava has the button\n",
      "ExtremeBleu posts small blind €0.02\n",
      "Cheytan posts big blind €0.04\n",
      "*** Hole cards ***\n",
      "Dealt in ExtremeBleu\n",
      "Dealt in Cheytan\n",
      "Dealt to HGJJGHJGJHG [Ah 3c As 8h]\n",
      "Dealt in Nonodiinho\n",
      "Dealt to lava [Ac Ks Kh 8c]\n",
      "*** Preflop ***\n",
      "HGJJGHJGJHG raises €0.14 to €0.14\n",
      "Nonodiinho calls €0.14\n",
      "lava raises €0.62 to €0.62\n",
      "ExtremeBleu folds\n",
      "Cheytan folds\n",
      "HGJJGHJGJHG raises €1.92 to €2.06\n",
      "Nonodiinho folds\n",
      "lava calls €1.44\n",
      "*** Flop *** [3h Th 6h]\n",
      "HGJJGHJGJHG bets €4.03\n",
      "lava calls €2.01, and is all-in\n",
      "Uncalled bet returned to HGJJGHJGJHG: €2.02\n",
      "*** Showdown ***\n",
      "*** Turn *** [3h Th 6h] [8d]\n",
      "*** River *** [3h Th 6h] [8d] [2s]\n",
      "lava shows [Ac Ks Kh 8c], A Pair of Kings\n",
      "HGJJGHJGJHG shows [Ah 3c As 8h], A Flush\n",
      "HGJJGHJGJHG wins €7.79\n",
      "*** Summary ***\n",
      "Total pot €8.34 Rake €0.55\n",
      "Seat 1: Nonodiinho: bet €0.14 and won €0, net result: €-0.14\n",
      "Seat 2: lava: bet €4.07 and won €0, net result: €-4.07\n",
      "Seat 3: ExtremeBleu: bet €0.02 and won €0, net result: €-0.02\n",
      "Seat 4: Cheytan: bet €0.04 and won €0, net result: €-0.04\n",
      "Seat 5: HGJJGHJGJHG: bet €6.09 and won €9.81, net result: €3.72\n"
     ]
    }
   ],
   "source": [
    "hand = 'Game #643794271: Table €4 PL - 0.02/0.04 - Pot Limit Omaha - 21:43:44 2022/04/06\\n*** Seated players ***\\nSeat 1: Nonodiinho (€3.04)\\nSeat 2: lava (€4.07)\\nSeat 3: ExtremeBleu (€4.20)\\nSeat 4: Cheytan (€3.57)\\nSeat 5: HGJJGHJGJHG (€9.34)\\nSeat 6: albanmuller (€2.48) (sitting out)\\n*** Blinds and button ***\\nlava has the button\\nExtremeBleu posts small blind €0.02\\nCheytan posts big blind €0.04\\n*** Hole cards ***\\nDealt in ExtremeBleu\\nDealt in Cheytan\\nDealt to HGJJGHJGJHG [Ah 3c As 8h]\\nDealt in Nonodiinho\\nDealt to lava [Ac Ks Kh 8c]\\n*** Preflop ***\\nHGJJGHJGJHG raises €0.14 to €0.14\\nNonodiinho calls €0.14\\nlava raises €0.62 to €0.62\\nExtremeBleu folds\\nCheytan folds\\nHGJJGHJGJHG raises €1.92 to €2.06\\nNonodiinho folds\\nlava calls €1.44\\n*** Flop *** [3h Th 6h]\\nHGJJGHJGJHG bets €4.03\\nlava calls €2.01, and is all-in\\nUncalled bet returned to HGJJGHJGJHG: €2.02\\n*** Showdown ***\\n*** Turn *** [3h Th 6h] [8d]\\n*** River *** [3h Th 6h] [8d] [2s]\\nlava shows [Ac Ks Kh 8c], A Pair of Kings\\nHGJJGHJGJHG shows [Ah 3c As 8h], A Flush\\nHGJJGHJGJHG wins €7.79\\n*** Summary ***\\nTotal pot €8.34 Rake €0.55\\nSeat 1: Nonodiinho: bet €0.14 and won €0, net result: €-0.14\\nSeat 2: lava: bet €4.07 and won €0, net result: €-4.07\\nSeat 3: ExtremeBleu: bet €0.02 and won €0, net result: €-0.02\\nSeat 4: Cheytan: bet €0.04 and won €0, net result: €-0.04\\nSeat 5: HGJJGHJGJHG: bet €6.09 and won €9.81, net result: €3.72'\n",
    "print(hand)\n"
   ]
  },
  {
   "cell_type": "code",
   "execution_count": null,
   "id": "e519f0c6",
   "metadata": {},
   "outputs": [],
   "source": [
    "\n",
    "\n"
   ]
  },
  {
   "cell_type": "markdown",
   "id": "5f593bbe",
   "metadata": {},
   "source": [
    "function order in parser:\n",
    "def determineGameType\n",
    "def readPlayerStacks\n",
    "def compilePlayerRegexs\n",
    "def readBlinds\n",
    "def readButton\n",
    "def readShowdownActions\n",
    "def readCommunityCards\n",
    "\n"
   ]
  },
  {
   "cell_type": "code",
   "execution_count": 11,
   "id": "401f1ade",
   "metadata": {},
   "outputs": [
    {
     "name": "stdout",
     "output_type": "stream",
     "text": [
      "2\n"
     ]
    }
   ],
   "source": [
    "import re\n",
    "\n",
    "substitutions = {\n",
    "                     'LEGAL_ISO' : \"USD|EUR|GBP|CAD|FPP|SC|INR|CNY\",      # legal ISO currency codes\n",
    "                            'LS' : u\"\\$|\\xe2\\x82\\xac|\\u20ac|\\£|\\u20b9|\\¥|\", # legal currency symbols - Euro(cp1252, utf-8)\n",
    "                           'PLYR': r'\\s?(?P<PNAME>.+?)',\n",
    "                            'CUR': u\"(\\$|\\xe2\\x82\\xac|\\u20ac||\\£|\\u20b9|\\¥|)\",\n",
    "                          'BRKTS': r'(\\(button\\) |\\(small blind\\) |\\(big blind\\) |\\(button blind\\) |\\(button\\) \\(small blind\\) |\\(small blind/button\\) |\\(button\\) \\(big blind\\) )?',\n",
    "                    }\n",
    "re_Button       = re.compile('(?P<BUTTON>\\w+)\\shas\\sthe\\sbutton', re.MULTILINE)\n",
    "re_PlayerInfo   = re.compile(u\"\"\"\n",
    "          Seat\\s(?P<SEAT>[0-9]+):\\s(?P<PNAME>\\w+)\\s\\((€|$|£)(?P<CASH>[,.0-9]+)\\)\"\"\" % substitutions, \n",
    "          re.MULTILINE|re.VERBOSE)\n",
    "\n",
    "pre, post = hand.split('*** Summary ***')\n",
    "m = re_Button.search(hand)\n",
    "m2 = re_PlayerInfo.finditer(pre)\n",
    "\n",
    "if m:\n",
    "    for b in m2:\n",
    "        if b.group('PNAME') == m.group('BUTTON'):\n",
    "            print(int(b.group('SEAT')))\n"
   ]
  }
 ],
 "metadata": {
  "kernelspec": {
   "display_name": "Python 3 (ipykernel)",
   "language": "python",
   "name": "python3"
  },
  "language_info": {
   "codemirror_mode": {
    "name": "ipython",
    "version": 3
   },
   "file_extension": ".py",
   "mimetype": "text/x-python",
   "name": "python",
   "nbconvert_exporter": "python",
   "pygments_lexer": "ipython3",
   "version": "3.9.7"
  }
 },
 "nbformat": 4,
 "nbformat_minor": 5
}
