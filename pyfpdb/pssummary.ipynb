{
 "cells": [
  {
   "cell_type": "code",
   "execution_count": 118,
   "id": "eb008ae8-77da-413a-9108-9e9303a9006a",
   "metadata": {
    "tags": []
   },
   "outputs": [
    {
     "name": "stdout",
     "output_type": "stream",
     "text": [
      "('2022', '05', '06', '20', '58', '09')\n"
     ]
    }
   ],
   "source": [
    "import re\n",
    "\n",
    "test2 = \"\"\"\n",
    "        Run It Once Poker Tournament #158168, Cubed SNG No Limit Hold 'Em\n",
    "Buy-In: €5.00\n",
    "3 players\n",
    "Tournament started 2021/04/12 17:01:17 CET [2021/04/12 11:01:17 ET]\n",
    "\n",
    "1: Vance K, €12.50\n",
    "2: Doc\n",
    "3: Lyle N\n",
    "\n",
    "You finished in 2nd place (eliminated at hand #55582410).\n",
    "        \"\"\"\n",
    "\n",
    "\n",
    "test = \"\"\"#3407415859, Pot Limit Omaha\n",
    "Buy-In: €0.23/€0.02 EUR\n",
    "3 players\n",
    "Total Prize Pool: €0.50 EUR\n",
    "Tournament started 2022/05/06 20:58:09 CET [2022/05/06 14:58:09 ET]\n",
    "Tournament finished 2022/05/06 21:04:32 CET [2022/05/06 15:04:32 ET]\n",
    "  1: jeje_sat (France), €0.50 (100%)\n",
    "  2: Killer7714 (Spain),\n",
    "  3: Jcfp12 (Portugal), \"\"\"\n",
    "\n",
    "substitutions = {\n",
    "                     'LEGAL_ISO' : \"USD|EUR|GBP|CAD|FPP|SC|INR|CNY\",      # legal ISO currency codes\n",
    "                            'LS' : u\"\\$|\\xe2\\x82\\xac|\\u20ac|\\£|\\u20b9|\\¥|\\€\", # legal currency symbols - Euro(cp1252, utf-8)\n",
    "                           'PLYR': r'\\s?(?P<PNAME>.+?)',\n",
    "                            'CUR': u\"(\\$|\\xe2\\x82\\xac|\\u20ac||\\£|\\u20b9|\\¥|)\",\n",
    "                          'BRKTS': r'(\\(button\\) |\\(small blind\\) |\\(big blind\\) |\\(button blind\\) |\\(button\\) \\(small blind\\) |\\(small blind\\) \\(button\\) |\\(big blind\\) \\(button\\) |\\(small blind/button\\) |\\(button\\) \\(big blind\\) )?',\n",
    "                    }\n",
    "\n",
    "re_TourneyInfo = re.compile(u\"\"\"(?P<TOURNO>[0-9]+),\\s(?P<DESC1>.+?\\sSNG\\s)?((?P<LIMIT>No\\sLimit|NO\\sLIMIT|Limit|LIMIT|Pot\\sLimit|POT\\sLIMIT|Pot\\sLimit\\sPre\\-Flop,\\sNo\\sLimit\\sPost\\-Flop)\\s)?(?P<SPLIT>Split)?\\s?(?P<GAME>Hold\\'em|6\\+\\sHold\\'em|Hold\\s\\'Em|Razz|RAZZ|7\\sCard\\sStud|7\\sCard\\sStud\\sHi\\/Lo|Omaha|Omaha\\sHi\\/Lo|Badugi|Triple\\sDraw\\s2\\-7\\sLowball|Single\\sDraw\\s2\\-7\\sLowball|5\\sCard\\sDraw|(5|6)\\sCard\\sOmaha(\\sHi\\/Lo)?|Courchevel(\\sHi\\/Lo)?|HORSE|8\\-Game|HOSE|Mixed\\sOmaha\\sH\\/L|Mixed\\sHold\\'em|Mixed\\sPLH\\/PLO|Mixed\\sNLH\\/PLO||Mixed\\sOmaha|Triple\\sStud)\\s+\n",
    "                            Buy-In:\\s(?P<CURRENCY>[%(LS)s]?)((?P<BUYIN>[,.0-9]+)/[%(LS)s]?(?P<FEE>[,.0-9]+)|(?P<BUYIN2>[,.0-9]+))\\s+\n",
    "                            \n",
    "                            \"\"\" % substitutions ,re.VERBOSE|re.MULTILINE)\n",
    "re_TourneyInfo2 = re.compile(u\"\"\"\n",
    "                            (?P<ENTRIES>[0-9]+)\\splayers\\s+\n",
    "                            \"\"\" % substitutions ,re.VERBOSE|re.MULTILINE)\n",
    "re_TourneyInfo3 = re.compile(u\"\"\"\n",
    "                            Total\\sPrize\\sPool:\\s[%(LS)s]?(?P<PRIZEPOOL>[,.0-9]+)\\s+\n",
    "                            \"\"\" % substitutions ,re.VERBOSE|re.MULTILINE)\n",
    "re_TourneyInfo4 = re.compile(u\"\"\"\n",
    "                            Tournament\\sstarted\\s+(-\\s)?(?P<DATETIME>.*$)\n",
    "                            \"\"\" % substitutions ,re.VERBOSE|re.MULTILINE)\n",
    "\n",
    "re_bis = re.compile(\"\"\"(?P<Y>[0-9]{4})\\/(?P<M>[0-9]{2})\\/(?P<D>[0-9]{2})[\\- ]+(?P<H>[0-9]+):(?P<MIN>[0-9]+):(?P<S>[0-9]+)\"\"\", re.MULTILINE)\n",
    "\n",
    "m = re_bis.search(test)\n",
    "print(m.groups())\n"
   ]
  },
  {
   "cell_type": "code",
   "execution_count": null,
   "id": "fd6c5203-4125-440b-b856-e30f35631370",
   "metadata": {},
   "outputs": [],
   "source": []
  },
  {
   "cell_type": "code",
   "execution_count": null,
   "id": "1ed13a28-4bc8-4169-9feb-2fe51b8e8b98",
   "metadata": {},
   "outputs": [],
   "source": []
  }
 ],
 "metadata": {
  "kernelspec": {
   "display_name": "Python 3 (ipykernel)",
   "language": "python",
   "name": "python3"
  },
  "language_info": {
   "codemirror_mode": {
    "name": "ipython",
    "version": 3
   },
   "file_extension": ".py",
   "mimetype": "text/x-python",
   "name": "python",
   "nbconvert_exporter": "python",
   "pygments_lexer": "ipython3",
   "version": "3.9.7"
  }
 },
 "nbformat": 4,
 "nbformat_minor": 5
}
