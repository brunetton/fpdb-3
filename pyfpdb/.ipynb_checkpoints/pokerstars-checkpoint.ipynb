{
 "cells": [
  {
   "cell_type": "code",
   "execution_count": 78,
   "id": "718d380c-8c4e-42e4-b2c6-11fbb382006d",
   "metadata": {},
   "outputs": [
    {
     "data": {
      "text/html": [
       "<table border=\"1\" class=\"dataframe\">\n",
       "  <thead>\n",
       "    <tr style=\"text-align: right;\">\n",
       "      <th></th>\n",
       "      <th>SITE</th>\n",
       "      <th>TITLE</th>\n",
       "      <th>HID</th>\n",
       "      <th>TOUR</th>\n",
       "      <th>TOURNO</th>\n",
       "      <th>HIVETABLE</th>\n",
       "      <th>BUYIN</th>\n",
       "      <th>BIAMT</th>\n",
       "      <th>BIRAKE</th>\n",
       "      <th>BOUNTY</th>\n",
       "      <th>TOUR_ISO</th>\n",
       "      <th>MIXED</th>\n",
       "      <th>SPLIT</th>\n",
       "      <th>GAME</th>\n",
       "      <th>LIMIT</th>\n",
       "      <th>SHOOTOUT</th>\n",
       "      <th>LEVEL</th>\n",
       "      <th>CURRENCY</th>\n",
       "      <th>SB</th>\n",
       "      <th>BB</th>\n",
       "      <th>CURRENCY1</th>\n",
       "      <th>BUB</th>\n",
       "      <th>CAP</th>\n",
       "      <th>CAPAMT</th>\n",
       "      <th>ISO</th>\n",
       "      <th>BLAH2</th>\n",
       "      <th>DATETIME</th>\n",
       "    </tr>\n",
       "  </thead>\n",
       "  <tbody>\n",
       "    <tr>\n",
       "      <th>0</th>\n",
       "      <td>PokerStars</td>\n",
       "      <td>Hand</td>\n",
       "      <td>239343378447</td>\n",
       "      <td>None</td>\n",
       "      <td>None</td>\n",
       "      <td>None</td>\n",
       "      <td>None</td>\n",
       "      <td>None</td>\n",
       "      <td>None</td>\n",
       "      <td>None</td>\n",
       "      <td>None</td>\n",
       "      <td>None</td>\n",
       "      <td>None</td>\n",
       "      <td>Fusion</td>\n",
       "      <td>Pot Limit</td>\n",
       "      <td>None</td>\n",
       "      <td>None</td>\n",
       "      <td>€</td>\n",
       "      <td>0.01</td>\n",
       "      <td>0.02</td>\n",
       "      <td>None</td>\n",
       "      <td>None</td>\n",
       "      <td>None</td>\n",
       "      <td>None</td>\n",
       "      <td>EUR</td>\n",
       "      <td>None</td>\n",
       "      <td>2022/10/20 17:37:41 CET [2022/10/20 11:37:41 ET]</td>\n",
       "    </tr>\n",
       "  </tbody>\n",
       "</table>"
      ],
      "text/plain": [
       "<IPython.core.display.HTML object>"
      ]
     },
     "metadata": {},
     "output_type": "display_data"
    }
   ],
   "source": [
    "import re\n",
    "import pandas as pd\n",
    "import numpy as np\n",
    "from IPython.display import display, HTML\n",
    "\n",
    "test = \"\"\"PokerStars Hand #239343378447:  Fusion Pot Limit (€0.01/€0.02 EUR) - 2022/10/20 17:37:41 CET [2022/10/20 11:37:41 ET]\n",
    "Table 'Tucana II' 6-max Seat #5 is the button\n",
    "Seat 2: kaenah033016 (€1.42 in chips) \n",
    "Seat 4: elodie2002 (€1.19 in chips) \n",
    "Seat 5: jeje_sat (€1.87 in chips) \n",
    "kaenah033016: posts small blind €0.01\n",
    "elodie2002: posts big blind €0.02\n",
    "*** HOLE CARDS ***\n",
    "Dealt to jeje_sat [3c Tc]\n",
    "jeje_sat: folds \n",
    "kaenah033016: calls €0.01\n",
    "elodie2002: checks \n",
    "*** FLOP *** [Jc 6d 7c]\n",
    "kaenah033016: bets €0.02\n",
    "elodie2002: calls €0.02\n",
    "*** TURN *** [Jc 6d 7c] [5d]\n",
    "kaenah033016: bets €0.02\n",
    "elodie2002: calls €0.02\n",
    "*** RIVER *** [Jc 6d 7c 5d] [5h]\n",
    "kaenah033016: bets €0.02\n",
    "elodie2002: calls €0.02\n",
    "*** SHOW DOWN ***\n",
    "kaenah033016: shows [7s 5c Kd Kh] (a full house, Fives full of Sevens)\n",
    "elodie2002: mucks hand \n",
    "kaenah033016 collected €0.15 from pot\n",
    "*** SUMMARY ***\n",
    "Total pot €0.16 | Rake €0.01 \n",
    "Board [Jc 6d 7c 5d 5h]\n",
    "Seat 2: kaenah033016 (small blind) showed [7s 5c Kd Kh] and won (€0.15) with a full house, Fives full of Sevens\n",
    "Seat 4: elodie2002 (big blind) mucked [Js 9d 6s Qc]\n",
    "Seat 5: jeje_sat (button) folded before Flop (didn't bet)\"\"\"\n",
    "    \n",
    "\n",
    "substitutions = {\n",
    "                     'LEGAL_ISO' : \"USD|EUR|GBP|CAD|FPP|SC|INR|CNY\",      # legal ISO currency codes\n",
    "                            'LS' : u\"\\$|\\xe2\\x82\\xac|\\u20ac|\\£|\\u20b9|\\¥|\", # legal currency symbols - Euro(cp1252, utf-8)\n",
    "                           'PLYR': r'\\s?(?P<PNAME>.+?)',\n",
    "                            'CUR': u\"(\\$|\\xe2\\x82\\xac|\\u20ac|€|\\£|\\u20b9|\\¥|)\",\n",
    "                          'BRKTS': r'(\\(button\\) |\\(small blind\\) |\\(big blind\\) |\\(button blind\\) |\\(button\\) \\(small blind\\) |\\(small blind\\) \\(button\\) |\\(big blind\\) \\(button\\) |\\(small blind/button\\) |\\(button\\) \\(big blind\\) )?',\n",
    "                    }\n",
    "\n",
    "re_GameInfo = re.compile(u\"\"\"(?P<SITE>PokerStars|POKERSTARS|Hive\\sPoker|Full\\sTilt|PokerMaster|Run\\sIt\\sOnce\\sPoker|BetOnline|PokerBros)(?P<TITLE>\\sGame|\\sHand|\\sHome\\sGame|\\sHome\\sGame\\sHand|Game|\\s(Zoom|Rush)\\sHand|\\sGAME)\\s\\#(?P<HID>[0-9]+):\\s+\n",
    "          (\\{.*\\}\\s+)?((?P<TOUR>((Zoom|Rush)\\s)?(Tournament|TOURNAMENT))\\s\\#                # open paren of tournament info\n",
    "          (?P<TOURNO>\\d+),\\s(Table\\s\\#(?P<HIVETABLE>\\d+),\\s)?\n",
    "          # here's how I plan to use LS\n",
    "          (?P<BUYIN>(?P<BIAMT>[%(LS)s\\d\\.]+)?\\+?(?P<BIRAKE>[%(LS)s\\d\\.]+)?\\+?(?P<BOUNTY>[%(LS)s\\d\\.]+)?\\s?(?P<TOUR_ISO>%(LEGAL_ISO)s)?|Freeroll|)(\\s+)?(-\\s)?\n",
    "          (\\s.+?,)?\n",
    "          )?\n",
    "          # close paren of tournament info\n",
    "          (?P<MIXED>HORSE|8\\-Game|8\\-GAME|HOSE|Mixed\\sOmaha\\sH/L|Mixed\\sHold\\'em|Mixed\\sPLH/PLO|Mixed\\sNLH/PLO|Mixed\\sOmaha|Triple\\sStud)?\\s?\\(?\n",
    "          (?P<SPLIT>Split)?\\s?\n",
    "          (?P<GAME>Hold\\'em|HOLD\\'EM|Hold\\'em|6\\+\\sHold\\'em|Razz|RAZZ|Fusion|7\\sCard\\sStud|7\\sCARD\\sSTUD|7\\sCard\\sStud\\sHi/Lo|7\\sCARD\\sSTUD\\sHI/LO|Omaha|OMAHA|Omaha\\sHi/Lo|OMAHA\\sHI/LO|Badugi|Triple\\sDraw\\s2\\-7\\sLowball|Single\\sDraw\\s2\\-7\\sLowball|5\\sCard\\sDraw|(5|6)\\sCard\\sOmaha(\\sHi/Lo)?|Courchevel(\\sHi/Lo)?)\\s\n",
    "          (?P<LIMIT>No\\sLimit|NO\\sLIMIT|Fixed\\sLimit|Limit|LIMIT|Pot\\sLimit|POT\\sLIMIT|Pot\\sLimit\\sPre\\-Flop,\\sNo\\sLimit\\sPost\\-Flop)\\)?,?\\s\n",
    "          (-\\s)?\n",
    "          (?P<SHOOTOUT>Match.*,\\s)?\n",
    "          ((Level|LEVEL)\\s(?P<LEVEL>[IVXLC\\d]+)\\s)?\n",
    "          \\(?                            # open paren of the stakes\n",
    "          (?P<CURRENCY>%(LS)s|)?\n",
    "          (ante\\s\\d+,\\s)?\n",
    "          ((?P<SB>[.0-9]+)/(%(LS)s)?(?P<BB>[.0-9]+)|Button\\sBlind\\s(?P<CURRENCY1>%(LS)s|)(?P<BUB>[.0-9]+)\\s\\-\\sAnte\\s(%(LS)s)?[.0-9]+\\s)\n",
    "          (?P<CAP>\\s-\\s[%(LS)s]?(?P<CAPAMT>[.0-9]+)\\sCap\\s-\\s)?        # Optional Cap part\n",
    "          \\s?(?P<ISO>%(LEGAL_ISO)s)?\n",
    "          \\)                        # close paren of the stakes\n",
    "          (?P<BLAH2>\\s\\[AAMS\\sID:\\s[A-Z0-9]+\\])?         # AAMS ID: in .it HH's\n",
    "          \\s-\\s\n",
    "          (?P<DATETIME>.*$)  \"\"\" %  substitutions, re.MULTILINE|re.VERBOSE)\n",
    "\n",
    "m = re_GameInfo.search(test)\n",
    "if m != None:\n",
    "\n",
    "    mg = m.groupdict()\n",
    "\n",
    "    df = pd.DataFrame.from_dict(mg, orient='index')\n",
    "    df = df.transpose()\n",
    "    display(HTML(df.to_html()))"
   ]
  },
  {
   "cell_type": "code",
   "execution_count": 79,
   "id": "20e889ff-5491-4d92-a792-d57a512d1ad1",
   "metadata": {},
   "outputs": [
    {
     "data": {
      "text/html": [
       "<table border=\"1\" class=\"dataframe\">\n",
       "  <thead>\n",
       "    <tr style=\"text-align: right;\">\n",
       "      <th></th>\n",
       "      <th>SEAT</th>\n",
       "      <th>PNAME</th>\n",
       "      <th>CASH</th>\n",
       "      <th>BOUNTY</th>\n",
       "      <th>SITOUT</th>\n",
       "    </tr>\n",
       "  </thead>\n",
       "  <tbody>\n",
       "    <tr>\n",
       "      <th>0</th>\n",
       "      <td>2</td>\n",
       "      <td>kaenah033016</td>\n",
       "      <td>1.42</td>\n",
       "      <td>None</td>\n",
       "      <td>None</td>\n",
       "    </tr>\n",
       "  </tbody>\n",
       "</table>"
      ],
      "text/plain": [
       "<IPython.core.display.HTML object>"
      ]
     },
     "metadata": {},
     "output_type": "display_data"
    }
   ],
   "source": [
    "re_PlayerInfo = re.compile(u\"\"\"\\s?Seat\\s(?P<SEAT>[0-9]+):\\s\n",
    "          (?P<PNAME>.*)\\s\n",
    "          \\((%(LS)s)?(?P<CASH>[,.0-9]+)\\sin\\schips\n",
    "          (,\\s(%(LS)s)?(?P<BOUNTY>[,.0-9]+)\\sbounty)?\n",
    "          \\)\n",
    "          (?P<SITOUT>\\sis\\ssitting\\sout)?  \"\"\" %  substitutions, re.MULTILINE|re.VERBOSE)\n",
    "\n",
    "m = re_PlayerInfo.search(test)\n",
    "if m != None:\n",
    "\n",
    "    mg = m.groupdict()\n",
    "\n",
    "    df = pd.DataFrame.from_dict(mg, orient='index')\n",
    "    df = df.transpose()\n",
    "    display(HTML(df.to_html()))"
   ]
  },
  {
   "cell_type": "code",
   "execution_count": 80,
   "id": "fe4c4271-2a35-42bf-8547-8326f570729b",
   "metadata": {},
   "outputs": [
    {
     "data": {
      "text/html": [
       "<table border=\"1\" class=\"dataframe\">\n",
       "  <thead>\n",
       "    <tr style=\"text-align: right;\">\n",
       "      <th></th>\n",
       "      <th>TABLE</th>\n",
       "      <th>MAX</th>\n",
       "      <th>PLAY</th>\n",
       "      <th>BUTTON</th>\n",
       "    </tr>\n",
       "  </thead>\n",
       "  <tbody>\n",
       "    <tr>\n",
       "      <th>0</th>\n",
       "      <td>Tucana II</td>\n",
       "      <td>6</td>\n",
       "      <td>None</td>\n",
       "      <td>5</td>\n",
       "    </tr>\n",
       "  </tbody>\n",
       "</table>"
      ],
      "text/plain": [
       "<IPython.core.display.HTML object>"
      ]
     },
     "metadata": {},
     "output_type": "display_data"
    }
   ],
   "source": [
    "re_HandInfo = re.compile(u\"\"\"\\s?Table\\s(ID\\s)?\\'(?P<TABLE>.+?)\\'\\s\n",
    "          ((?P<MAX>\\d+)-[Mm]ax\\s)?\n",
    "          (?P<PLAY>\\(Play\\sMoney\\)\\s)?\n",
    "          (Seat\\s\\#(?P<BUTTON>\\d+)\\sis\\sthe\\sbutton)?  \"\"\" %  substitutions, re.MULTILINE|re.VERBOSE)\n",
    "\n",
    "m = re_HandInfo.search(test)\n",
    "if m != None:\n",
    "\n",
    "    mg = m.groupdict()\n",
    "\n",
    "    df = pd.DataFrame.from_dict(mg, orient='index')\n",
    "    df = df.transpose()\n",
    "    display(HTML(df.to_html()))"
   ]
  },
  {
   "cell_type": "code",
   "execution_count": 81,
   "id": "92d559c7-aee9-486c-8f40-0f8f312f31af",
   "metadata": {},
   "outputs": [
    {
     "data": {
      "text/html": [
       "<table border=\"1\" class=\"dataframe\">\n",
       "  <thead>\n",
       "    <tr style=\"text-align: right;\">\n",
       "      <th></th>\n",
       "      <th>SITE</th>\n",
       "      <th>TITLE</th>\n",
       "      <th>HID</th>\n",
       "      <th>TOUR</th>\n",
       "      <th>TOURNO</th>\n",
       "      <th>HIVETABLE</th>\n",
       "      <th>BUYIN</th>\n",
       "      <th>BIAMT</th>\n",
       "      <th>BIRAKE</th>\n",
       "      <th>BOUNTY</th>\n",
       "      <th>TOUR_ISO</th>\n",
       "      <th>MIXED</th>\n",
       "      <th>SPLIT</th>\n",
       "      <th>GAME</th>\n",
       "      <th>LIMIT</th>\n",
       "      <th>SHOOTOUT</th>\n",
       "      <th>LEVEL</th>\n",
       "      <th>CURRENCY</th>\n",
       "      <th>SB</th>\n",
       "      <th>BB</th>\n",
       "      <th>CURRENCY1</th>\n",
       "      <th>BUB</th>\n",
       "      <th>CAP</th>\n",
       "      <th>CAPAMT</th>\n",
       "      <th>ISO</th>\n",
       "      <th>BLAH2</th>\n",
       "      <th>DATETIME</th>\n",
       "    </tr>\n",
       "  </thead>\n",
       "  <tbody>\n",
       "    <tr>\n",
       "      <th>0</th>\n",
       "      <td>PokerStars</td>\n",
       "      <td>Hand</td>\n",
       "      <td>239343378447</td>\n",
       "      <td>None</td>\n",
       "      <td>None</td>\n",
       "      <td>None</td>\n",
       "      <td>None</td>\n",
       "      <td>None</td>\n",
       "      <td>None</td>\n",
       "      <td>None</td>\n",
       "      <td>None</td>\n",
       "      <td>None</td>\n",
       "      <td>None</td>\n",
       "      <td>Fusion</td>\n",
       "      <td>Pot Limit</td>\n",
       "      <td>None</td>\n",
       "      <td>None</td>\n",
       "      <td>€</td>\n",
       "      <td>0.01</td>\n",
       "      <td>0.02</td>\n",
       "      <td>None</td>\n",
       "      <td>None</td>\n",
       "      <td>None</td>\n",
       "      <td>None</td>\n",
       "      <td>EUR</td>\n",
       "      <td>None</td>\n",
       "      <td>2022/10/20 17:37:41 CET [2022/10/20 11:37:41 ET]</td>\n",
       "    </tr>\n",
       "  </tbody>\n",
       "</table>"
      ],
      "text/plain": [
       "<IPython.core.display.HTML object>"
      ]
     },
     "metadata": {},
     "output_type": "display_data"
    }
   ],
   "source": [
    "re_Identify = re.compile(u\"\"\"(PokerStars|POKERSTARS|Hive\\sPoker|Full\\sTilt|PokerMaster|Run\\sIt\\sOnce\\sPoker|BetOnline|PokerBros)(\\sGame|\\sHand|\\sHome\\sGame|\\sHome\\sGame\\sHand|Game|\\s(Zoom|Rush)\\sHand|\\sGAME)\\s\\#\\d+: \"\"\" %  substitutions, re.MULTILINE|re.VERBOSE)\n",
    "\n",
    "m = re_GameInfo.search(test)\n",
    "if m != None:\n",
    "\n",
    "    mg = m.groupdict()\n",
    "\n",
    "    df = pd.DataFrame.from_dict(mg, orient='index')\n",
    "    df = df.transpose()\n",
    "    display(HTML(df.to_html()))"
   ]
  },
  {
   "cell_type": "code",
   "execution_count": 82,
   "id": "e03fe43e-8eaf-4af9-915d-001906965189",
   "metadata": {},
   "outputs": [
    {
     "data": {
      "text/html": [
       "<table border=\"1\" class=\"dataframe\">\n",
       "  <thead>\n",
       "    <tr style=\"text-align: right;\">\n",
       "      <th></th>\n",
       "      <th>BUTTON</th>\n",
       "    </tr>\n",
       "  </thead>\n",
       "  <tbody>\n",
       "    <tr>\n",
       "      <th>0</th>\n",
       "      <td>5</td>\n",
       "    </tr>\n",
       "  </tbody>\n",
       "</table>"
      ],
      "text/plain": [
       "<IPython.core.display.HTML object>"
      ]
     },
     "metadata": {},
     "output_type": "display_data"
    }
   ],
   "source": [
    "re_Button = re.compile(u\"\"\"Seat\\s\\#(?P<BUTTON>\\d+)\\sis\\sthe\\sbutton\n",
    "                        \"\"\" %  substitutions, re.MULTILINE|re.VERBOSE)\n",
    "\n",
    "m = re_Button.search(test)\n",
    "if m != None:\n",
    "\n",
    "    mg = m.groupdict()\n",
    "\n",
    "    df = pd.DataFrame.from_dict(mg, orient='index')\n",
    "    df = df.transpose()\n",
    "    display(HTML(df.to_html()))"
   ]
  },
  {
   "cell_type": "code",
   "execution_count": 83,
   "id": "d039f130-ae25-4055-bcca-57eaf500ac54",
   "metadata": {},
   "outputs": [
    {
     "data": {
      "text/html": [
       "<table border=\"1\" class=\"dataframe\">\n",
       "  <thead>\n",
       "    <tr style=\"text-align: right;\">\n",
       "      <th></th>\n",
       "      <th>CARDS</th>\n",
       "    </tr>\n",
       "  </thead>\n",
       "  <tbody>\n",
       "    <tr>\n",
       "      <th>0</th>\n",
       "      <td>2022/10/20 11:37:41 ET</td>\n",
       "    </tr>\n",
       "  </tbody>\n",
       "</table>"
      ],
      "text/plain": [
       "<IPython.core.display.HTML object>"
      ]
     },
     "metadata": {},
     "output_type": "display_data"
    }
   ],
   "source": [
    "re_Board = re.compile(u\"\"\"\\[(?P<CARDS>.+)\\]\n",
    "                        \"\"\" %  substitutions, re.MULTILINE|re.VERBOSE)\n",
    "\n",
    "m = re_Board.search(test)\n",
    "if m != None:\n",
    "\n",
    "    mg = m.groupdict()\n",
    "\n",
    "    df = pd.DataFrame.from_dict(mg, orient='index')\n",
    "    df = df.transpose()\n",
    "    display(HTML(df.to_html()))"
   ]
  },
  {
   "cell_type": "code",
   "execution_count": 85,
   "id": "237fd70d-d693-4b2a-b7e3-e63146430729",
   "metadata": {},
   "outputs": [],
   "source": [
    "re_Board2       = re.compile(r\"\\[(?P<C1>\\S\\S)\\] \\[(\\S\\S)?(?P<C2>\\S\\S) (?P<C3>\\S\\S)\\]\")\n",
    "\n",
    "m = re_Board2.search(test)\n",
    "if m != None:\n",
    "\n",
    "    mg = m.groupdict()\n",
    "\n",
    "    df = pd.DataFrame.from_dict(mg, orient='index')\n",
    "    df = df.transpose()\n",
    "    display(HTML(df.to_html()))"
   ]
  },
  {
   "cell_type": "code",
   "execution_count": 86,
   "id": "2ffa99ce-54c8-4adb-b710-1cc5232b55b5",
   "metadata": {},
   "outputs": [
    {
     "data": {
      "text/html": [
       "<table border=\"1\" class=\"dataframe\">\n",
       "  <thead>\n",
       "    <tr style=\"text-align: right;\">\n",
       "      <th></th>\n",
       "      <th>Y</th>\n",
       "      <th>M</th>\n",
       "      <th>D</th>\n",
       "      <th>H</th>\n",
       "      <th>MIN</th>\n",
       "      <th>S</th>\n",
       "    </tr>\n",
       "  </thead>\n",
       "  <tbody>\n",
       "    <tr>\n",
       "      <th>0</th>\n",
       "      <td>2022</td>\n",
       "      <td>10</td>\n",
       "      <td>20</td>\n",
       "      <td>17</td>\n",
       "      <td>37</td>\n",
       "      <td>41</td>\n",
       "    </tr>\n",
       "  </tbody>\n",
       "</table>"
      ],
      "text/plain": [
       "<IPython.core.display.HTML object>"
      ]
     },
     "metadata": {},
     "output_type": "display_data"
    }
   ],
   "source": [
    "re_DateTime1 = re.compile(u\"\"\"(?P<Y>[0-9]{4})\\/(?P<M>[0-9]{2})\\/(?P<D>[0-9]{2})[\\- ]+(?P<H>[0-9]+):(?P<MIN>[0-9]+):(?P<S>[0-9]+)\n",
    "                        \"\"\" %  substitutions, re.MULTILINE|re.VERBOSE)\n",
    "\n",
    "m = re_DateTime1.search(test)\n",
    "if m != None:\n",
    "\n",
    "    mg = m.groupdict()\n",
    "\n",
    "    df = pd.DataFrame.from_dict(mg, orient='index')\n",
    "    df = df.transpose()\n",
    "    display(HTML(df.to_html()))"
   ]
  },
  {
   "cell_type": "code",
   "execution_count": 87,
   "id": "daf40c58-4740-4957-b00f-470fa85493d9",
   "metadata": {},
   "outputs": [
    {
     "data": {
      "text/html": [
       "<table border=\"1\" class=\"dataframe\">\n",
       "  <thead>\n",
       "    <tr style=\"text-align: right;\">\n",
       "      <th></th>\n",
       "      <th>Y</th>\n",
       "      <th>M</th>\n",
       "      <th>D</th>\n",
       "      <th>H</th>\n",
       "      <th>MIN</th>\n",
       "    </tr>\n",
       "  </thead>\n",
       "  <tbody>\n",
       "    <tr>\n",
       "      <th>0</th>\n",
       "      <td>2022</td>\n",
       "      <td>10</td>\n",
       "      <td>20</td>\n",
       "      <td>17</td>\n",
       "      <td>37</td>\n",
       "    </tr>\n",
       "  </tbody>\n",
       "</table>"
      ],
      "text/plain": [
       "<IPython.core.display.HTML object>"
      ]
     },
     "metadata": {},
     "output_type": "display_data"
    }
   ],
   "source": [
    "re_DateTime2 = re.compile(u\"\"\"(?P<Y>[0-9]{4})\\/(?P<M>[0-9]{2})\\/(?P<D>[0-9]{2})[\\- ]+(?P<H>[0-9]+):(?P<MIN>[0-9]+)\n",
    "                        \"\"\" %  substitutions, re.MULTILINE|re.VERBOSE)\n",
    "\n",
    "m = re_DateTime2.search(test)\n",
    "if m != None:\n",
    "\n",
    "    mg = m.groupdict()\n",
    "\n",
    "    df = pd.DataFrame.from_dict(mg, orient='index')\n",
    "    df = df.transpose()\n",
    "    display(HTML(df.to_html()))"
   ]
  },
  {
   "cell_type": "code",
   "execution_count": 88,
   "id": "2e6ceb5e-8c87-4f49-a7fb-e80eea087677",
   "metadata": {},
   "outputs": [
    {
     "data": {
      "text/html": [
       "<table border=\"1\" class=\"dataframe\">\n",
       "  <thead>\n",
       "    <tr style=\"text-align: right;\">\n",
       "      <th></th>\n",
       "      <th>PNAME</th>\n",
       "      <th>ATYPE</th>\n",
       "      <th>BET</th>\n",
       "      <th>BETTO</th>\n",
       "      <th>CARDS</th>\n",
       "    </tr>\n",
       "  </thead>\n",
       "  <tbody>\n",
       "    <tr>\n",
       "      <th>0</th>\n",
       "      <td>jeje_sat</td>\n",
       "      <td>folds</td>\n",
       "      <td>None</td>\n",
       "      <td>None</td>\n",
       "      <td>None</td>\n",
       "    </tr>\n",
       "  </tbody>\n",
       "</table>"
      ],
      "text/plain": [
       "<IPython.core.display.HTML object>"
      ]
     },
     "metadata": {},
     "output_type": "display_data"
    }
   ],
   "source": [
    "re_Action = re.compile(u\"\"\"%(PLYR)s:(?P<ATYPE>\\sbets|\\schecks|\\sraises|\\scalls|\\sfolds|\\sdiscards|\\sstands\\spat)\n",
    "                        (\\s%(CUR)s(?P<BET>[,.\\d]+))?(\\sto\\s%(CUR)s(?P<BETTO>[,.\\d]+))?  # the number discarded goes in <BET>\n",
    "                        \\s*(and\\sis\\sall.in)?\n",
    "                        (and\\shas\\sreached\\sthe\\s[%(CUR)s\\d\\.,]+\\scap)?\n",
    "                        (\\son|\\scards?)?\n",
    "                        (\\s\\(disconnect\\))?\n",
    "                        (\\s\\[(?P<CARDS>.+?)\\])?\\s*$\n",
    "                        \"\"\" %  substitutions, re.MULTILINE|re.VERBOSE)\n",
    "\n",
    "m = re_Action.search(test)\n",
    "if m != None:\n",
    "\n",
    "    mg = m.groupdict()\n",
    "\n",
    "    df = pd.DataFrame.from_dict(mg, orient='index')\n",
    "    df = df.transpose()\n",
    "    display(HTML(df.to_html()))"
   ]
  },
  {
   "cell_type": "code",
   "execution_count": 89,
   "id": "6f2e795a-55ab-4090-8867-9a1fbc07f2aa",
   "metadata": {},
   "outputs": [
    {
     "data": {
      "text/html": [
       "<table border=\"1\" class=\"dataframe\">\n",
       "  <thead>\n",
       "    <tr style=\"text-align: right;\">\n",
       "      <th></th>\n",
       "      <th>PNAME</th>\n",
       "      <th>CARDS</th>\n",
       "    </tr>\n",
       "  </thead>\n",
       "  <tbody>\n",
       "    <tr>\n",
       "      <th>0</th>\n",
       "      <td>kaenah033016</td>\n",
       "      <td>7s 5c Kd Kh</td>\n",
       "    </tr>\n",
       "  </tbody>\n",
       "</table>"
      ],
      "text/plain": [
       "<IPython.core.display.HTML object>"
      ]
     },
     "metadata": {},
     "output_type": "display_data"
    }
   ],
   "source": [
    "re_ShowdownAction = re.compile(u\"\"\"%s: shows \\[(?P<CARDS>.*)\\]\"\"\" % substitutions['PLYR'], re.MULTILINE)\n",
    "m = re_ShowdownAction.search(test)\n",
    "if m != None:\n",
    "\n",
    "    mg = m.groupdict()\n",
    "\n",
    "    df = pd.DataFrame.from_dict(mg, orient='index')\n",
    "    df = df.transpose()\n",
    "    display(HTML(df.to_html()))"
   ]
  },
  {
   "cell_type": "code",
   "execution_count": 90,
   "id": "a1b72cc3-79f8-4919-9216-ca7b7041d135",
   "metadata": {},
   "outputs": [
    {
     "data": {
      "text/html": [
       "<table border=\"1\" class=\"dataframe\">\n",
       "  <thead>\n",
       "    <tr style=\"text-align: right;\">\n",
       "      <th></th>\n",
       "      <th>SEAT</th>\n",
       "      <th>PNAME</th>\n",
       "      <th>POT</th>\n",
       "    </tr>\n",
       "  </thead>\n",
       "  <tbody>\n",
       "    <tr>\n",
       "      <th>0</th>\n",
       "      <td>2</td>\n",
       "      <td>kaenah033016</td>\n",
       "      <td>0.15</td>\n",
       "    </tr>\n",
       "  </tbody>\n",
       "</table>"
      ],
      "text/plain": [
       "<IPython.core.display.HTML object>"
      ]
     },
     "metadata": {},
     "output_type": "display_data"
    }
   ],
   "source": [
    "re_CollectPot = re.compile(u\"Seat (?P<SEAT>[0-9]+): %(PLYR)s %(BRKTS)s(collected|showed \\[.*\\] and (won|collected)) \\(?%(CUR)s(?P<POT>[,.\\d]+)\\)?(, mucked| with.*|)\" %  substitutions, re.MULTILINE)\n",
    "m = re_CollectPot.search(test)\n",
    "if m != None:\n",
    "\n",
    "    mg = m.groupdict()\n",
    "\n",
    "    df = pd.DataFrame.from_dict(mg, orient='index')\n",
    "    df = df.transpose()\n",
    "    display(HTML(df.to_html()))"
   ]
  },
  {
   "cell_type": "code",
   "execution_count": 91,
   "id": "52372bca-1d9c-4b20-a5ca-49e309b1e0cd",
   "metadata": {},
   "outputs": [
    {
     "data": {
      "text/html": [
       "<table border=\"1\" class=\"dataframe\">\n",
       "  <thead>\n",
       "    <tr style=\"text-align: right;\">\n",
       "      <th></th>\n",
       "      <th>SEAT</th>\n",
       "      <th>PNAME</th>\n",
       "      <th>POT</th>\n",
       "    </tr>\n",
       "  </thead>\n",
       "  <tbody>\n",
       "    <tr>\n",
       "      <th>0</th>\n",
       "      <td>2</td>\n",
       "      <td>kaenah033016</td>\n",
       "      <td>0.15</td>\n",
       "    </tr>\n",
       "  </tbody>\n",
       "</table>"
      ],
      "text/plain": [
       "<IPython.core.display.HTML object>"
      ]
     },
     "metadata": {},
     "output_type": "display_data"
    }
   ],
   "source": [
    "re_CollectPot2      = re.compile(r\"%(PLYR)s (collected|cashed out the hand for) %(CUR)s(?P<POT>[,.\\d]+)\" %  substitutions, re.MULTILINE)\n",
    "if m != None:\n",
    "\n",
    "    mg = m.groupdict()\n",
    "\n",
    "    df = pd.DataFrame.from_dict(mg, orient='index')\n",
    "    df = df.transpose()\n",
    "    display(HTML(df.to_html()))"
   ]
  },
  {
   "cell_type": "code",
   "execution_count": 92,
   "id": "b850f61f-4730-42b2-8948-1a935774b560",
   "metadata": {},
   "outputs": [],
   "source": [
    "re_CashedOut = re.compile(r\"cashed\\sout\\sthe\\shand\")\n",
    "\n",
    "m = re_CashedOut.search(test)\n",
    "if m != None:\n",
    "\n",
    "    mg = m.groupdict()\n",
    "\n",
    "    df = pd.DataFrame.from_dict(mg, orient='index')\n",
    "    df = df.transpose()\n",
    "    display(HTML(df.to_html()))"
   ]
  },
  {
   "cell_type": "code",
   "execution_count": 93,
   "id": "68668c6e-b1fd-4f39-9369-7efd92880451",
   "metadata": {},
   "outputs": [],
   "source": [
    "re_WinningRankOne = re.compile(u\"%(PLYR)s wins the tournament and receives %(CUR)s(?P<AMT>[,\\.0-9]+) - congratulations!$\" %  substitutions, re.MULTILINE)\n",
    "\n",
    "m = re_WinningRankOne.search(test)\n",
    "if m != None:\n",
    "\n",
    "    mg = m.groupdict()\n",
    "\n",
    "    df = pd.DataFrame.from_dict(mg, orient='index')\n",
    "    df = df.transpose()\n",
    "    display(HTML(df.to_html()))"
   ]
  },
  {
   "cell_type": "code",
   "execution_count": 94,
   "id": "70616988-024a-4a88-a93f-50bfeb0b3272",
   "metadata": {},
   "outputs": [],
   "source": [
    "re_WinningRankOther = re.compile(u\"%(PLYR)s finished the tournament in (?P<RANK>[0-9]+)(st|nd|rd|th) place and received %(CUR)s(?P<AMT>[,.0-9]+)\\.$\" %  substitutions, re.MULTILINE)\n",
    "\n",
    "m = re_WinningRankOther.search(test)\n",
    "if m != None:\n",
    "\n",
    "    mg = m.groupdict()\n",
    "\n",
    "    df = pd.DataFrame.from_dict(mg, orient='index')\n",
    "    df = df.transpose()\n",
    "    display(HTML(df.to_html()))"
   ]
  },
  {
   "cell_type": "code",
   "execution_count": 95,
   "id": "3969a71c-0b46-48a5-99b3-130670b50967",
   "metadata": {},
   "outputs": [],
   "source": [
    "re_Uncalled   = re.compile('Uncalled bet \\(%(CUR)s(?P<BET>[,.\\d]+)\\) returned to' %  substitutions, re.MULTILINE)\n",
    "\n",
    "m = re_Uncalled.search(test)\n",
    "if m != None:\n",
    "\n",
    "    mg = m.groupdict()\n",
    "\n",
    "    df = pd.DataFrame.from_dict(mg, orient='index')\n",
    "    df = df.transpose()\n",
    "    display(HTML(df.to_html()))"
   ]
  },
  {
   "cell_type": "code",
   "execution_count": 96,
   "id": "5eff10eb-7d23-4588-84c2-dfa062fd0d55",
   "metadata": {},
   "outputs": [
    {
     "data": {
      "text/html": [
       "<table border=\"1\" class=\"dataframe\">\n",
       "  <thead>\n",
       "    <tr style=\"text-align: right;\">\n",
       "      <th></th>\n",
       "      <th>POT</th>\n",
       "      <th>RAKE</th>\n",
       "    </tr>\n",
       "  </thead>\n",
       "  <tbody>\n",
       "    <tr>\n",
       "      <th>0</th>\n",
       "      <td>0.16</td>\n",
       "      <td>0.01</td>\n",
       "    </tr>\n",
       "  </tbody>\n",
       "</table>"
      ],
      "text/plain": [
       "<IPython.core.display.HTML object>"
      ]
     },
     "metadata": {},
     "output_type": "display_data"
    }
   ],
   "source": [
    "re_Rake             = re.compile(u\"\"\"\n",
    "                        Total\\spot\\s%(CUR)s(?P<POT>[,\\.0-9]+)(.+?)?\\s\\|\\sRake\\s%(CUR)s(?P<RAKE>[,\\.0-9]+)\"\"\"\n",
    "                         %  substitutions, re.MULTILINE|re.VERBOSE)\n",
    "\n",
    "m = re_Rake.search(test)\n",
    "if m != None:\n",
    "\n",
    "    mg = m.groupdict()\n",
    "\n",
    "    df = pd.DataFrame.from_dict(mg, orient='index')\n",
    "    df = df.transpose()\n",
    "    display(HTML(df.to_html()))"
   ]
  },
  {
   "cell_type": "code",
   "execution_count": 97,
   "id": "7966d78c-7f9b-48cf-ab9b-fe08c44b7a8b",
   "metadata": {},
   "outputs": [],
   "source": [
    "re_STP             = re.compile(u\"\"\"\n",
    "                        STP\\sadded:\\s%(CUR)s(?P<AMOUNT>[,\\.0-9]+)\"\"\"\n",
    "                         %  substitutions, re.MULTILINE|re.VERBOSE)\n",
    "\n",
    "m = re_STP.search(test)\n",
    "if m != None:\n",
    "\n",
    "    mg = m.groupdict()\n",
    "\n",
    "    df = pd.DataFrame.from_dict(mg, orient='index')\n",
    "    df = df.transpose()\n",
    "    display(HTML(df.to_html()))"
   ]
  },
  {
   "cell_type": "code",
   "execution_count": 120,
   "id": "f50f1728-94c9-42a1-b861-7685b5c6e574",
   "metadata": {},
   "outputs": [
    {
     "data": {
      "text/html": [
       "<table border=\"1\" class=\"dataframe\">\n",
       "  <thead>\n",
       "    <tr style=\"text-align: right;\">\n",
       "      <th></th>\n",
       "      <th>OLDCARDS</th>\n",
       "      <th>NEWCARDS</th>\n",
       "    </tr>\n",
       "  </thead>\n",
       "  <tbody>\n",
       "    <tr>\n",
       "      <th>0</th>\n",
       "      <td>None</td>\n",
       "      <td>3c Tc</td>\n",
       "    </tr>\n",
       "  </tbody>\n",
       "</table>"
      ],
      "text/plain": [
       "<IPython.core.display.HTML object>"
      ]
     },
     "metadata": {},
     "output_type": "display_data"
    }
   ],
   "source": [
    "player_re = \"jeje_sat\"\n",
    "subst = {\n",
    "                'PLYR': player_re,\n",
    "                'BRKTS': r'(\\(button\\) |\\(small blind\\) |\\(big blind\\) |\\(button\\) \\(small blind\\) |\\(button\\) \\(big blind\\) )?',\n",
    "                'CUR': u\"(\\$|\\xe2\\x82\\xac|\\u20ac||\\£|)\"\n",
    "            }\n",
    "re_HeroCards = re.compile(r\"Dealt to %(PLYR)s(?: \\[(?P<OLDCARDS>.+?)\\])?( \\[(?P<NEWCARDS>.+?)\\])\" % subst, re.MULTILINE)\n",
    "\n",
    "\n",
    "\n",
    "m = re_HeroCards.search(test)\n",
    "if m != None:\n",
    "\n",
    "    mg = m.groupdict()\n",
    "\n",
    "    df = pd.DataFrame.from_dict(mg, orient='index')\n",
    "    df = df.transpose()\n",
    "    display(HTML(df.to_html()))"
   ]
  },
  {
   "cell_type": "code",
   "execution_count": null,
   "id": "daf7f7ad-17a0-4c2e-81cd-4cd8f4e9b1c8",
   "metadata": {},
   "outputs": [],
   "source": []
  }
 ],
 "metadata": {
  "kernelspec": {
   "display_name": "Python 3 (ipykernel)",
   "language": "python",
   "name": "python3"
  },
  "language_info": {
   "codemirror_mode": {
    "name": "ipython",
    "version": 3
   },
   "file_extension": ".py",
   "mimetype": "text/x-python",
   "name": "python",
   "nbconvert_exporter": "python",
   "pygments_lexer": "ipython3",
   "version": "3.9.7"
  },
  "vscode": {
   "interpreter": {
    "hash": "f80a5a0cc8063663f65acede7fbcc16339b9aaec7d0949debf28dca766e6420d"
   }
  }
 },
 "nbformat": 4,
 "nbformat_minor": 5
}
